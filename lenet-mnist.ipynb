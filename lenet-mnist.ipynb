{
 "cells": [
  {
   "cell_type": "code",
   "execution_count": 3,
   "metadata": {},
   "outputs": [],
   "source": [
    "from pyimagesearch.nn import LeNet\n",
    "from keras.optimizers import SGD\n",
    "from sklearn.preprocessing import LabelBinarizer\n",
    "from sklearn.model_selection import train_test_split\n",
    "from sklearn.metrics import classification_report\n",
    "from keras import datasets\n",
    "import keras.backend as k\n",
    "import matplotlib.pyplot as plt\n",
    "import numpy as np"
   ]
  },
  {
   "cell_type": "code",
   "execution_count": 16,
   "metadata": {},
   "outputs": [
    {
     "name": "stdout",
     "output_type": "stream",
     "text": [
      "[INFO] accessing MNIST...\n"
     ]
    }
   ],
   "source": [
    "print(\"[INFO] accessing MNIST...\")\n",
    "dataset = datasets.mnist.load_data()"
   ]
  },
  {
   "cell_type": "code",
   "execution_count": 17,
   "metadata": {},
   "outputs": [],
   "source": [
    "(trainX, trainY), (testX, testY) = dataset\n",
    "trainX, testX = trainX/255.0, testX/255.0"
   ]
  },
  {
   "cell_type": "code",
   "execution_count": 24,
   "metadata": {},
   "outputs": [
    {
     "data": {
      "text/plain": [
       "(60000, 28, 28)"
      ]
     },
     "execution_count": 24,
     "metadata": {},
     "output_type": "execute_result"
    }
   ],
   "source": [
    "trainX.shape"
   ]
  },
  {
   "cell_type": "code",
   "execution_count": 25,
   "metadata": {},
   "outputs": [],
   "source": [
    "if k.image_data_format() == \"channels_first\":\n",
    "    trainX = trainX.reshape(trainX.shape[0], 1, 28, 28)\n",
    "    testX = testX.reshape(testX.shape[0], 1, 28, 28)\n",
    "    # otherwise, we are using \"channels last\" ordering, so the design\n",
    "    # matrix shape should be: num_samples x rows x columns x depth\n",
    "else:\n",
    "    trainX = trainX.reshape(trainX.shape[0], 28, 28, 1)\n",
    "    testX = testX.reshape(testX.shape[0], 28, 28, 1)"
   ]
  },
  {
   "cell_type": "code",
   "execution_count": 26,
   "metadata": {},
   "outputs": [],
   "source": [
    "le = LabelBinarizer()\n",
    "trainY = le.fit_transform(trainY)\n",
    "testY = le.transform(testY)"
   ]
  },
  {
   "cell_type": "code",
   "execution_count": 27,
   "metadata": {},
   "outputs": [
    {
     "name": "stdout",
     "output_type": "stream",
     "text": [
      "[INFO] compiling model...\n",
      "[INFO] training network...\n",
      "Epoch 1/20\n",
      "469/469 [==============================] - 47s 100ms/step - loss: 0.9555 - accuracy: 0.7400 - val_loss: 0.3034 - val_accuracy: 0.9117\n",
      "Epoch 2/20\n",
      "469/469 [==============================] - 52s 111ms/step - loss: 0.2637 - accuracy: 0.9220 - val_loss: 0.2012 - val_accuracy: 0.9415\n",
      "Epoch 3/20\n",
      "469/469 [==============================] - 49s 104ms/step - loss: 0.1874 - accuracy: 0.9446 - val_loss: 0.1461 - val_accuracy: 0.9583\n",
      "Epoch 4/20\n",
      "469/469 [==============================] - 49s 104ms/step - loss: 0.1472 - accuracy: 0.9567 - val_loss: 0.1228 - val_accuracy: 0.9627\n",
      "Epoch 5/20\n",
      "469/469 [==============================] - 48s 103ms/step - loss: 0.1194 - accuracy: 0.9645 - val_loss: 0.1014 - val_accuracy: 0.9721\n",
      "Epoch 6/20\n",
      "469/469 [==============================] - 48s 103ms/step - loss: 0.1011 - accuracy: 0.9699 - val_loss: 0.0853 - val_accuracy: 0.9747\n",
      "Epoch 7/20\n",
      "469/469 [==============================] - 49s 103ms/step - loss: 0.0885 - accuracy: 0.9731 - val_loss: 0.0782 - val_accuracy: 0.9765\n",
      "Epoch 8/20\n",
      "469/469 [==============================] - 49s 104ms/step - loss: 0.0800 - accuracy: 0.9761 - val_loss: 0.0686 - val_accuracy: 0.9784\n",
      "Epoch 9/20\n",
      "469/469 [==============================] - 49s 104ms/step - loss: 0.0730 - accuracy: 0.9779 - val_loss: 0.0661 - val_accuracy: 0.9786\n",
      "Epoch 10/20\n",
      "469/469 [==============================] - 49s 104ms/step - loss: 0.0663 - accuracy: 0.9798 - val_loss: 0.0601 - val_accuracy: 0.9810\n",
      "Epoch 11/20\n",
      "469/469 [==============================] - 49s 105ms/step - loss: 0.0613 - accuracy: 0.9816 - val_loss: 0.0599 - val_accuracy: 0.9816\n",
      "Epoch 12/20\n",
      "469/469 [==============================] - 49s 105ms/step - loss: 0.0580 - accuracy: 0.9826 - val_loss: 0.0579 - val_accuracy: 0.9833\n",
      "Epoch 13/20\n",
      "469/469 [==============================] - 49s 105ms/step - loss: 0.0547 - accuracy: 0.9837 - val_loss: 0.0513 - val_accuracy: 0.9835\n",
      "Epoch 14/20\n",
      "469/469 [==============================] - 48s 103ms/step - loss: 0.0519 - accuracy: 0.9845 - val_loss: 0.0482 - val_accuracy: 0.9843\n",
      "Epoch 15/20\n",
      "469/469 [==============================] - 48s 101ms/step - loss: 0.0491 - accuracy: 0.9850 - val_loss: 0.0481 - val_accuracy: 0.9845\n",
      "Epoch 16/20\n",
      "469/469 [==============================] - 48s 101ms/step - loss: 0.0466 - accuracy: 0.9856 - val_loss: 0.0465 - val_accuracy: 0.9840\n",
      "Epoch 17/20\n",
      "469/469 [==============================] - 47s 101ms/step - loss: 0.0443 - accuracy: 0.9864 - val_loss: 0.0434 - val_accuracy: 0.9869\n",
      "Epoch 18/20\n",
      "469/469 [==============================] - 48s 102ms/step - loss: 0.0422 - accuracy: 0.9871 - val_loss: 0.0504 - val_accuracy: 0.9835\n",
      "Epoch 19/20\n",
      "469/469 [==============================] - 50s 107ms/step - loss: 0.0410 - accuracy: 0.9875 - val_loss: 0.0441 - val_accuracy: 0.9852\n",
      "Epoch 20/20\n",
      "469/469 [==============================] - 49s 105ms/step - loss: 0.0391 - accuracy: 0.9883 - val_loss: 0.0431 - val_accuracy: 0.9851\n"
     ]
    }
   ],
   "source": [
    "print(\"[INFO] compiling model...\")\n",
    "opt = SGD(lr=0.01)\n",
    "model = LeNet.build(width=28, height=28, depth=1, classes=10)\n",
    "model.compile(loss=\"categorical_crossentropy\", optimizer=opt, metrics=[\"accuracy\"])\n",
    "\n",
    "n_epochs = 20\n",
    "\n",
    "# train the network\n",
    "print(\"[INFO] training network...\")\n",
    "H = model.fit(trainX, trainY, validation_data=(testX, testY), batch_size=128, epochs=n_epochs, verbose=1)"
   ]
  },
  {
   "cell_type": "code",
   "execution_count": 28,
   "metadata": {},
   "outputs": [
    {
     "name": "stdout",
     "output_type": "stream",
     "text": [
      "[INFO] evaluating network...\n",
      "              precision    recall  f1-score   support\n",
      "\n",
      "           0       0.98      0.99      0.99       980\n",
      "           1       0.99      0.99      0.99      1135\n",
      "           2       0.98      0.99      0.98      1032\n",
      "           3       0.97      1.00      0.98      1010\n",
      "           4       0.99      0.99      0.99       982\n",
      "           5       0.99      0.98      0.98       892\n",
      "           6       0.99      0.99      0.99       958\n",
      "           7       0.99      0.97      0.98      1028\n",
      "           8       0.98      0.98      0.98       974\n",
      "           9       0.99      0.97      0.98      1009\n",
      "\n",
      "    accuracy                           0.99     10000\n",
      "   macro avg       0.99      0.98      0.99     10000\n",
      "weighted avg       0.99      0.99      0.99     10000\n",
      "\n"
     ]
    }
   ],
   "source": [
    "# evaluate the network\n",
    "print(\"[INFO] evaluating network...\")\n",
    "predictions = model.predict(testX, batch_size=128)\n",
    "print(classification_report(testY.argmax(axis=1), predictions.argmax(axis=1), target_names=[str(x) for x in le.classes_]))"
   ]
  },
  {
   "cell_type": "code",
   "execution_count": 30,
   "metadata": {},
   "outputs": [
    {
     "data": {
      "image/png": "[encoded data removed]",
      "text/plain": [
       "<Figure size 432x288 with 1 Axes>"
      ]
     },
     "metadata": {},
     "output_type": "display_data"
    }
   ],
   "source": [
    "# plot the training loss and accuracy\n",
    "plt.style.use(\"ggplot\")\n",
    "plt.figure()\n",
    "plt.plot(np.arange(0, n_epochs), H.history[\"loss\"], label=\"train_loss\")\n",
    "plt.plot(np.arange(0, n_epochs), H.history[\"val_loss\"], label=\"val_loss\")\n",
    "plt.plot(np.arange(0, n_epochs), H.history[\"accuracy\"], label=\"train_acc\")\n",
    "plt.plot(np.arange(0, n_epochs), H.history[\"val_accuracy\"], label=\"val_acc\")\n",
    "plt.title(\"Training Loss and Accuracy\")\n",
    "plt.xlabel(\"Epoch #\")\n",
    "plt.ylabel(\"Loss/Accuracy\")\n",
    "plt.legend()\n",
    "plt.show()"
   ]
  },
  {
   "cell_type": "code",
   "execution_count": null,
   "metadata": {},
   "outputs": [],
   "source": []
  }
 ],
 "metadata": {
  "kernelspec": {
   "display_name": "Python 3",
   "language": "python",
   "name": "python3"
  },
  "language_info": {
   "codemirror_mode": {
    "name": "ipython",
    "version": 3
   },
   "file_extension": ".py",
   "mimetype": "text/x-python",
   "name": "python",
   "nbconvert_exporter": "python",
   "pygments_lexer": "ipython3",
   "version": "3.8.5"
  }
 },
 "nbformat": 4,
 "nbformat_minor": 4
}
