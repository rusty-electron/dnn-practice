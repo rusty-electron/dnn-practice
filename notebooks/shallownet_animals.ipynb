{
 "cells": [
  {
   "cell_type": "code",
   "execution_count": 1,
   "metadata": {},
   "outputs": [],
   "source": [
    "# import the necessary packages\n",
    "from sklearn.preprocessing import LabelBinarizer\n",
    "from sklearn.model_selection import train_test_split\n",
    "from sklearn.metrics import classification_report\n",
    "from pyimagesearch.preprocessing import ImageToArrayPreprocessor\n",
    "from pyimagesearch.preprocessing import SimplePreprocessor\n",
    "from pyimagesearch.datasets import SimpleDatasetLoader\n",
    "from pyimagesearch.nn import ShallowNet\n",
    "from keras.optimizers import SGD\n",
    "from imutils import paths\n",
    "import matplotlib.pyplot as plt\n",
    "import numpy as np"
   ]
  },
  {
   "cell_type": "code",
   "execution_count": 2,
   "metadata": {},
   "outputs": [
    {
     "name": "stdout",
     "output_type": "stream",
     "text": [
      "[INFO] loading images...\n"
     ]
    }
   ],
   "source": [
    "print(\"[INFO] loading images...\")\n",
    "dataset_path = './pyimagesearch/datasets/animals'\n",
    "imagePaths = list(paths.list_images(dataset_path))"
   ]
  },
  {
   "cell_type": "code",
   "execution_count": 3,
   "metadata": {},
   "outputs": [
    {
     "name": "stdout",
     "output_type": "stream",
     "text": [
      "[INFO] processed 500/3000\n",
      "[INFO] processed 1000/3000\n",
      "[INFO] processed 1500/3000\n",
      "[INFO] processed 2000/3000\n",
      "[INFO] processed 2500/3000\n",
      "[INFO] processed 3000/3000\n"
     ]
    }
   ],
   "source": [
    "sp = SimplePreprocessor(32, 32)\n",
    "iap = ImageToArrayPreprocessor()\n",
    "\n",
    "sdl = SimpleDatasetLoader(preprocessors=[sp, iap])\n",
    "(data, labels) = sdl.load(imagePaths, verbose=500)\n",
    "data = data.astype(\"float\")/255.0"
   ]
  },
  {
   "cell_type": "code",
   "execution_count": 4,
   "metadata": {},
   "outputs": [],
   "source": [
    "(trainX, testX, trainY, testY) = train_test_split(data, labels, test_size=0.25, random_state=42)\n",
    "\n",
    "trainY = LabelBinarizer().fit_transform(trainY)\n",
    "testY = LabelBinarizer().fit_transform(testY)"
   ]
  },
  {
   "cell_type": "code",
   "execution_count": 5,
   "metadata": {},
   "outputs": [
    {
     "name": "stdout",
     "output_type": "stream",
     "text": [
      "[INFO] compiling model...\n"
     ]
    }
   ],
   "source": [
    "print(\"[INFO] compiling model...\")\n",
    "opt = SGD(lr=0.005)\n",
    "model = ShallowNet.build(width=32, height=32, depth=3, classes=3)\n",
    "model.compile(loss=\"categorical_crossentropy\", optimizer=opt, metrics=[\"accuracy\"])"
   ]
  },
  {
   "cell_type": "code",
   "execution_count": 6,
   "metadata": {},
   "outputs": [
    {
     "name": "stdout",
     "output_type": "stream",
     "text": [
      "[INFO] training network\n",
      "Epoch 1/100\n",
      "71/71 [==============================] - 1s 13ms/step - loss: 1.0007 - accuracy: 0.4831 - val_loss: 0.9345 - val_accuracy: 0.5373\n",
      "Epoch 2/100\n",
      "71/71 [==============================] - 1s 12ms/step - loss: 0.9167 - accuracy: 0.5498 - val_loss: 0.9215 - val_accuracy: 0.5373\n",
      "Epoch 3/100\n",
      "71/71 [==============================] - 1s 10ms/step - loss: 0.8914 - accuracy: 0.5560 - val_loss: 0.9560 - val_accuracy: 0.4933\n",
      "Epoch 4/100\n",
      "71/71 [==============================] - 1s 10ms/step - loss: 0.8646 - accuracy: 0.5644 - val_loss: 0.9783 - val_accuracy: 0.5187\n",
      "Epoch 5/100\n",
      "71/71 [==============================] - 1s 10ms/step - loss: 0.8436 - accuracy: 0.5782 - val_loss: 0.8917 - val_accuracy: 0.5453\n",
      "Epoch 6/100\n",
      "71/71 [==============================] - 1s 10ms/step - loss: 0.8315 - accuracy: 0.5849 - val_loss: 0.8773 - val_accuracy: 0.5320\n",
      "Epoch 7/100\n",
      "71/71 [==============================] - 1s 10ms/step - loss: 0.8215 - accuracy: 0.6018 - val_loss: 0.8669 - val_accuracy: 0.5627\n",
      "Epoch 8/100\n",
      "71/71 [==============================] - 1s 10ms/step - loss: 0.8105 - accuracy: 0.6093 - val_loss: 0.9438 - val_accuracy: 0.5293\n",
      "Epoch 9/100\n",
      "71/71 [==============================] - 1s 10ms/step - loss: 0.8095 - accuracy: 0.6164 - val_loss: 0.8090 - val_accuracy: 0.5787\n",
      "Epoch 10/100\n",
      "71/71 [==============================] - 1s 10ms/step - loss: 0.7921 - accuracy: 0.6204 - val_loss: 0.7968 - val_accuracy: 0.6133\n",
      "Epoch 11/100\n",
      "71/71 [==============================] - 1s 10ms/step - loss: 0.7880 - accuracy: 0.6244 - val_loss: 0.8010 - val_accuracy: 0.5947\n",
      "Epoch 12/100\n",
      "71/71 [==============================] - 1s 10ms/step - loss: 0.7818 - accuracy: 0.6249 - val_loss: 0.7985 - val_accuracy: 0.5987\n",
      "Epoch 13/100\n",
      "71/71 [==============================] - 1s 10ms/step - loss: 0.7687 - accuracy: 0.6276 - val_loss: 0.7810 - val_accuracy: 0.6053\n",
      "Epoch 14/100\n",
      "71/71 [==============================] - 1s 11ms/step - loss: 0.7660 - accuracy: 0.6427 - val_loss: 0.7797 - val_accuracy: 0.6160\n",
      "Epoch 15/100\n",
      "71/71 [==============================] - 1s 11ms/step - loss: 0.7588 - accuracy: 0.6396 - val_loss: 0.7777 - val_accuracy: 0.6133\n",
      "Epoch 16/100\n",
      "71/71 [==============================] - 1s 11ms/step - loss: 0.7529 - accuracy: 0.6413 - val_loss: 0.8837 - val_accuracy: 0.5667\n",
      "Epoch 17/100\n",
      "71/71 [==============================] - 1s 10ms/step - loss: 0.7450 - accuracy: 0.6627 - val_loss: 0.7989 - val_accuracy: 0.6027\n",
      "Epoch 18/100\n",
      "71/71 [==============================] - 1s 11ms/step - loss: 0.7405 - accuracy: 0.6551 - val_loss: 0.8140 - val_accuracy: 0.6000\n",
      "Epoch 19/100\n",
      "71/71 [==============================] - 1s 11ms/step - loss: 0.7358 - accuracy: 0.6600 - val_loss: 0.7876 - val_accuracy: 0.6000\n",
      "Epoch 20/100\n",
      "71/71 [==============================] - 1s 11ms/step - loss: 0.7317 - accuracy: 0.6627 - val_loss: 0.7596 - val_accuracy: 0.6280\n",
      "Epoch 21/100\n",
      "71/71 [==============================] - 1s 11ms/step - loss: 0.7226 - accuracy: 0.6707 - val_loss: 0.7741 - val_accuracy: 0.6160\n",
      "Epoch 22/100\n",
      "71/71 [==============================] - 1s 11ms/step - loss: 0.7138 - accuracy: 0.6818 - val_loss: 0.7578 - val_accuracy: 0.6347\n",
      "Epoch 23/100\n",
      "71/71 [==============================] - 1s 11ms/step - loss: 0.7096 - accuracy: 0.6831 - val_loss: 0.7551 - val_accuracy: 0.6240\n",
      "Epoch 24/100\n",
      "71/71 [==============================] - 1s 11ms/step - loss: 0.7019 - accuracy: 0.6822 - val_loss: 0.8746 - val_accuracy: 0.5773\n",
      "Epoch 25/100\n",
      "71/71 [==============================] - 1s 11ms/step - loss: 0.7009 - accuracy: 0.6809 - val_loss: 0.7993 - val_accuracy: 0.5893\n",
      "Epoch 26/100\n",
      "71/71 [==============================] - 1s 11ms/step - loss: 0.6894 - accuracy: 0.6889 - val_loss: 0.7421 - val_accuracy: 0.6240\n",
      "Epoch 27/100\n",
      "71/71 [==============================] - 1s 11ms/step - loss: 0.6888 - accuracy: 0.6973 - val_loss: 0.7668 - val_accuracy: 0.6067\n",
      "Epoch 28/100\n",
      "71/71 [==============================] - 1s 11ms/step - loss: 0.6761 - accuracy: 0.7027 - val_loss: 0.7452 - val_accuracy: 0.6467\n",
      "Epoch 29/100\n",
      "71/71 [==============================] - 1s 11ms/step - loss: 0.6642 - accuracy: 0.7049 - val_loss: 0.8385 - val_accuracy: 0.5840\n",
      "Epoch 30/100\n",
      "71/71 [==============================] - 1s 11ms/step - loss: 0.6603 - accuracy: 0.7129 - val_loss: 0.7162 - val_accuracy: 0.6587\n",
      "Epoch 31/100\n",
      "71/71 [==============================] - 1s 11ms/step - loss: 0.6521 - accuracy: 0.7213 - val_loss: 0.8769 - val_accuracy: 0.5627\n",
      "Epoch 32/100\n",
      "71/71 [==============================] - 1s 11ms/step - loss: 0.6501 - accuracy: 0.7058 - val_loss: 0.7720 - val_accuracy: 0.6240\n",
      "Epoch 33/100\n",
      "71/71 [==============================] - 1s 11ms/step - loss: 0.6428 - accuracy: 0.7169 - val_loss: 0.7065 - val_accuracy: 0.6627\n",
      "Epoch 34/100\n",
      "71/71 [==============================] - 1s 11ms/step - loss: 0.6296 - accuracy: 0.7364 - val_loss: 0.7062 - val_accuracy: 0.6467\n",
      "Epoch 35/100\n",
      "71/71 [==============================] - 1s 11ms/step - loss: 0.6230 - accuracy: 0.7307 - val_loss: 0.7103 - val_accuracy: 0.6493\n",
      "Epoch 36/100\n",
      "71/71 [==============================] - 1s 11ms/step - loss: 0.6199 - accuracy: 0.7453 - val_loss: 0.7398 - val_accuracy: 0.6400\n",
      "Epoch 37/100\n",
      "71/71 [==============================] - 1s 12ms/step - loss: 0.6119 - accuracy: 0.7342 - val_loss: 0.7390 - val_accuracy: 0.6320\n",
      "Epoch 38/100\n",
      "71/71 [==============================] - 1s 12ms/step - loss: 0.6100 - accuracy: 0.7382 - val_loss: 0.7287 - val_accuracy: 0.6480\n",
      "Epoch 39/100\n",
      "71/71 [==============================] - 1s 12ms/step - loss: 0.6023 - accuracy: 0.7547 - val_loss: 0.8495 - val_accuracy: 0.5907\n",
      "Epoch 40/100\n",
      "71/71 [==============================] - 1s 12ms/step - loss: 0.5948 - accuracy: 0.7631 - val_loss: 0.7154 - val_accuracy: 0.6400\n",
      "Epoch 41/100\n",
      "71/71 [==============================] - 1s 12ms/step - loss: 0.5947 - accuracy: 0.7520 - val_loss: 0.6909 - val_accuracy: 0.6667\n",
      "Epoch 42/100\n",
      "71/71 [==============================] - 1s 13ms/step - loss: 0.5830 - accuracy: 0.7578 - val_loss: 0.7336 - val_accuracy: 0.6520\n",
      "Epoch 43/100\n",
      "71/71 [==============================] - 1s 12ms/step - loss: 0.5813 - accuracy: 0.7520 - val_loss: 0.6971 - val_accuracy: 0.6600\n",
      "Epoch 44/100\n",
      "71/71 [==============================] - 1s 12ms/step - loss: 0.5700 - accuracy: 0.7684 - val_loss: 0.6801 - val_accuracy: 0.6680\n",
      "Epoch 45/100\n",
      "71/71 [==============================] - 1s 13ms/step - loss: 0.5670 - accuracy: 0.7587 - val_loss: 0.6961 - val_accuracy: 0.6680\n",
      "Epoch 46/100\n",
      "71/71 [==============================] - 1s 13ms/step - loss: 0.5587 - accuracy: 0.7636 - val_loss: 0.7765 - val_accuracy: 0.6333\n",
      "Epoch 47/100\n",
      "71/71 [==============================] - 1s 13ms/step - loss: 0.5542 - accuracy: 0.7756 - val_loss: 0.7005 - val_accuracy: 0.6453\n",
      "Epoch 48/100\n",
      "71/71 [==============================] - 1s 13ms/step - loss: 0.5494 - accuracy: 0.7756 - val_loss: 0.6800 - val_accuracy: 0.6560\n",
      "Epoch 49/100\n",
      "71/71 [==============================] - 1s 13ms/step - loss: 0.5445 - accuracy: 0.7724 - val_loss: 0.6956 - val_accuracy: 0.6613\n",
      "Epoch 50/100\n",
      "71/71 [==============================] - 1s 13ms/step - loss: 0.5319 - accuracy: 0.7916 - val_loss: 0.6729 - val_accuracy: 0.6707\n",
      "Epoch 51/100\n",
      "71/71 [==============================] - 1s 13ms/step - loss: 0.5301 - accuracy: 0.7840 - val_loss: 0.7210 - val_accuracy: 0.6547\n",
      "Epoch 52/100\n",
      "71/71 [==============================] - 1s 13ms/step - loss: 0.5284 - accuracy: 0.7840 - val_loss: 0.6966 - val_accuracy: 0.6467\n",
      "Epoch 53/100\n",
      "71/71 [==============================] - 1s 13ms/step - loss: 0.5233 - accuracy: 0.7813 - val_loss: 0.6865 - val_accuracy: 0.6747\n",
      "Epoch 54/100\n",
      "71/71 [==============================] - 1s 13ms/step - loss: 0.5139 - accuracy: 0.7853 - val_loss: 0.7294 - val_accuracy: 0.6720\n",
      "Epoch 55/100\n",
      "71/71 [==============================] - 1s 13ms/step - loss: 0.5120 - accuracy: 0.7996 - val_loss: 0.6702 - val_accuracy: 0.6627\n",
      "Epoch 56/100\n",
      "71/71 [==============================] - 1s 13ms/step - loss: 0.5084 - accuracy: 0.8022 - val_loss: 0.6838 - val_accuracy: 0.6813\n",
      "Epoch 57/100\n",
      "71/71 [==============================] - 1s 13ms/step - loss: 0.5051 - accuracy: 0.7938 - val_loss: 0.6999 - val_accuracy: 0.6573\n",
      "Epoch 58/100\n"
     ]
    },
    {
     "name": "stdout",
     "output_type": "stream",
     "text": [
      "71/71 [==============================] - 1s 12ms/step - loss: 0.4953 - accuracy: 0.7982 - val_loss: 0.6682 - val_accuracy: 0.6573\n",
      "Epoch 59/100\n",
      "71/71 [==============================] - 1s 12ms/step - loss: 0.4892 - accuracy: 0.8076 - val_loss: 0.6907 - val_accuracy: 0.6787\n",
      "Epoch 60/100\n",
      "71/71 [==============================] - 1s 12ms/step - loss: 0.4838 - accuracy: 0.8151 - val_loss: 0.8112 - val_accuracy: 0.6187\n",
      "Epoch 61/100\n",
      "71/71 [==============================] - 1s 12ms/step - loss: 0.4829 - accuracy: 0.8240 - val_loss: 0.7149 - val_accuracy: 0.6533\n",
      "Epoch 62/100\n",
      "71/71 [==============================] - 1s 12ms/step - loss: 0.4776 - accuracy: 0.8156 - val_loss: 0.7098 - val_accuracy: 0.6800\n",
      "Epoch 63/100\n",
      "71/71 [==============================] - 1s 13ms/step - loss: 0.4745 - accuracy: 0.8182 - val_loss: 0.7231 - val_accuracy: 0.6707\n",
      "Epoch 64/100\n",
      "71/71 [==============================] - 1s 13ms/step - loss: 0.4732 - accuracy: 0.8169 - val_loss: 0.7308 - val_accuracy: 0.6707\n",
      "Epoch 65/100\n",
      "71/71 [==============================] - 1s 14ms/step - loss: 0.4621 - accuracy: 0.8311 - val_loss: 0.6702 - val_accuracy: 0.6760\n",
      "Epoch 66/100\n",
      "71/71 [==============================] - 1s 16ms/step - loss: 0.4636 - accuracy: 0.8196 - val_loss: 0.6901 - val_accuracy: 0.6707\n",
      "Epoch 67/100\n",
      "71/71 [==============================] - 1s 12ms/step - loss: 0.4505 - accuracy: 0.8356 - val_loss: 0.6707 - val_accuracy: 0.6947\n",
      "Epoch 68/100\n",
      "71/71 [==============================] - 1s 12ms/step - loss: 0.4517 - accuracy: 0.8244 - val_loss: 0.6863 - val_accuracy: 0.6773\n",
      "Epoch 69/100\n",
      "71/71 [==============================] - 1s 14ms/step - loss: 0.4514 - accuracy: 0.8240 - val_loss: 0.6803 - val_accuracy: 0.6973\n",
      "Epoch 70/100\n",
      "71/71 [==============================] - 1s 13ms/step - loss: 0.4355 - accuracy: 0.8396 - val_loss: 0.6903 - val_accuracy: 0.6653\n",
      "Epoch 71/100\n",
      "71/71 [==============================] - 1s 13ms/step - loss: 0.4370 - accuracy: 0.8276 - val_loss: 0.6677 - val_accuracy: 0.6827\n",
      "Epoch 72/100\n",
      "71/71 [==============================] - 1s 13ms/step - loss: 0.4347 - accuracy: 0.8396 - val_loss: 0.7372 - val_accuracy: 0.6480\n",
      "Epoch 73/100\n",
      "71/71 [==============================] - 1s 13ms/step - loss: 0.4317 - accuracy: 0.8436 - val_loss: 0.6687 - val_accuracy: 0.6907\n",
      "Epoch 74/100\n",
      "71/71 [==============================] - 1s 19ms/step - loss: 0.4266 - accuracy: 0.8378 - val_loss: 0.6950 - val_accuracy: 0.6813\n",
      "Epoch 75/100\n",
      "71/71 [==============================] - 2s 23ms/step - loss: 0.4193 - accuracy: 0.8467 - val_loss: 0.6758 - val_accuracy: 0.6680\n",
      "Epoch 76/100\n",
      "71/71 [==============================] - 1s 14ms/step - loss: 0.4191 - accuracy: 0.8489 - val_loss: 0.6839 - val_accuracy: 0.6760\n",
      "Epoch 77/100\n",
      "71/71 [==============================] - 1s 13ms/step - loss: 0.4148 - accuracy: 0.8453 - val_loss: 0.7469 - val_accuracy: 0.6400\n",
      "Epoch 78/100\n",
      "71/71 [==============================] - 1s 12ms/step - loss: 0.4094 - accuracy: 0.8427 - val_loss: 0.6573 - val_accuracy: 0.7000\n",
      "Epoch 79/100\n",
      "71/71 [==============================] - 1s 12ms/step - loss: 0.4074 - accuracy: 0.8471 - val_loss: 0.6904 - val_accuracy: 0.6840\n",
      "Epoch 80/100\n",
      "71/71 [==============================] - 1s 11ms/step - loss: 0.4041 - accuracy: 0.8582 - val_loss: 0.7271 - val_accuracy: 0.6813\n",
      "Epoch 81/100\n",
      "71/71 [==============================] - 1s 12ms/step - loss: 0.4107 - accuracy: 0.8524 - val_loss: 0.7099 - val_accuracy: 0.6680\n",
      "Epoch 82/100\n",
      "71/71 [==============================] - 1s 14ms/step - loss: 0.3965 - accuracy: 0.8524 - val_loss: 0.7674 - val_accuracy: 0.6600\n",
      "Epoch 83/100\n",
      "71/71 [==============================] - 1s 12ms/step - loss: 0.3986 - accuracy: 0.8453 - val_loss: 0.7332 - val_accuracy: 0.6640\n",
      "Epoch 84/100\n",
      "71/71 [==============================] - 1s 11ms/step - loss: 0.3898 - accuracy: 0.8556 - val_loss: 0.7593 - val_accuracy: 0.6600\n",
      "Epoch 85/100\n",
      "71/71 [==============================] - 1s 12ms/step - loss: 0.3847 - accuracy: 0.8542 - val_loss: 0.7425 - val_accuracy: 0.6613\n",
      "Epoch 86/100\n",
      "71/71 [==============================] - 1s 12ms/step - loss: 0.3834 - accuracy: 0.8609 - val_loss: 0.6968 - val_accuracy: 0.6800\n",
      "Epoch 87/100\n",
      "71/71 [==============================] - 1s 12ms/step - loss: 0.3809 - accuracy: 0.8596 - val_loss: 0.7149 - val_accuracy: 0.6853\n",
      "Epoch 88/100\n",
      "71/71 [==============================] - 1s 12ms/step - loss: 0.3780 - accuracy: 0.8622 - val_loss: 0.6698 - val_accuracy: 0.6907\n",
      "Epoch 89/100\n",
      "71/71 [==============================] - 1s 13ms/step - loss: 0.3727 - accuracy: 0.8693 - val_loss: 0.7588 - val_accuracy: 0.6613\n",
      "Epoch 90/100\n",
      "71/71 [==============================] - 1s 12ms/step - loss: 0.3748 - accuracy: 0.8587 - val_loss: 0.6764 - val_accuracy: 0.6987\n",
      "Epoch 91/100\n",
      "71/71 [==============================] - 1s 12ms/step - loss: 0.3645 - accuracy: 0.8662 - val_loss: 0.7253 - val_accuracy: 0.6680\n",
      "Epoch 92/100\n",
      "71/71 [==============================] - 1s 12ms/step - loss: 0.3658 - accuracy: 0.8684 - val_loss: 0.6979 - val_accuracy: 0.6693\n",
      "Epoch 93/100\n",
      "71/71 [==============================] - 1s 12ms/step - loss: 0.3646 - accuracy: 0.8773 - val_loss: 0.6918 - val_accuracy: 0.6773\n",
      "Epoch 94/100\n",
      "71/71 [==============================] - 1s 12ms/step - loss: 0.3547 - accuracy: 0.8738 - val_loss: 0.6974 - val_accuracy: 0.6880\n",
      "Epoch 95/100\n",
      "71/71 [==============================] - 1s 12ms/step - loss: 0.3572 - accuracy: 0.8764 - val_loss: 0.6881 - val_accuracy: 0.6840\n",
      "Epoch 96/100\n",
      "71/71 [==============================] - 1s 12ms/step - loss: 0.3500 - accuracy: 0.8738 - val_loss: 0.6930 - val_accuracy: 0.6907\n",
      "Epoch 97/100\n",
      "71/71 [==============================] - 1s 12ms/step - loss: 0.3498 - accuracy: 0.8729 - val_loss: 0.7731 - val_accuracy: 0.6720\n",
      "Epoch 98/100\n",
      "71/71 [==============================] - 1s 12ms/step - loss: 0.3449 - accuracy: 0.8818 - val_loss: 0.7017 - val_accuracy: 0.6773\n",
      "Epoch 99/100\n",
      "71/71 [==============================] - 1s 12ms/step - loss: 0.3399 - accuracy: 0.8813 - val_loss: 0.7049 - val_accuracy: 0.6813\n",
      "Epoch 100/100\n",
      "71/71 [==============================] - 1s 13ms/step - loss: 0.3471 - accuracy: 0.8773 - val_loss: 0.6947 - val_accuracy: 0.6827\n"
     ]
    }
   ],
   "source": [
    "print(\"[INFO] training network\")\n",
    "H = model.fit(trainX, trainY, validation_data=(testX, testY), batch_size=32, epochs=100, verbose=1)"
   ]
  },
  {
   "cell_type": "code",
   "execution_count": 7,
   "metadata": {},
   "outputs": [
    {
     "name": "stdout",
     "output_type": "stream",
     "text": [
      "[INFO] serializing network...\n"
     ]
    }
   ],
   "source": [
    "# save the network to the disk\n",
    "print(\"[INFO] serializing network...\")\n",
    "model.save(\"./saved-models/shallownet-animal.hdf5\")"
   ]
  },
  {
   "cell_type": "code",
   "execution_count": 8,
   "metadata": {},
   "outputs": [
    {
     "name": "stdout",
     "output_type": "stream",
     "text": [
      "[INFO] evaluating network...\n",
      "              precision    recall  f1-score   support\n",
      "\n",
      "         cat       0.56      0.69      0.62       239\n",
      "         dog       0.63      0.48      0.54       262\n",
      "       panda       0.86      0.89      0.87       249\n",
      "\n",
      "    accuracy                           0.68       750\n",
      "   macro avg       0.68      0.69      0.68       750\n",
      "weighted avg       0.68      0.68      0.68       750\n",
      "\n"
     ]
    }
   ],
   "source": [
    "# evaluate the network\n",
    "print(\"[INFO] evaluating network...\")\n",
    "predictions = model.predict(testX, batch_size=32)\n",
    "print(classification_report(testY.argmax(axis=1), predictions.argmax(axis=1), target_names=[\"cat\", \"dog\", \"panda\"]))"
   ]
  },
  {
   "cell_type": "code",
   "execution_count": 9,
   "metadata": {},
   "outputs": [
    {
     "data": {
      "text/plain": [
       "Text(0, 0.5, 'Loss/Accuracy')"
      ]
     },
     "execution_count": 9,
     "metadata": {},
     "output_type": "execute_result"
    },
    {
     "data": {
      "image/png": "[encoded data removed]",
      "text/plain": [
       "<Figure size 432x288 with 1 Axes>"
      ]
     },
     "metadata": {},
     "output_type": "display_data"
    }
   ],
   "source": [
    "# plot the training loss and accuracy\n",
    "plt.style.use(\"ggplot\")\n",
    "plt.figure()\n",
    "plt.plot(np.arange(0, 100), H.history[\"loss\"], label=\"train_loss\")\n",
    "plt.plot(np.arange(0, 100), H.history[\"val_loss\"], label=\"val_loss\")\n",
    "plt.plot(np.arange(0, 100), H.history[\"accuracy\"], label=\"train_acc\")\n",
    "plt.plot(np.arange(0, 100), H.history[\"val_accuracy\"], label=\"val_acc\")\n",
    "\n",
    "plt.legend()\n",
    "plt.title(\"Training Loss and Accuracy\")\n",
    "plt.xlabel(\"Epoch #\")\n",
    "plt.ylabel(\"Loss/Accuracy\")"
   ]
  },
  {
   "cell_type": "code",
   "execution_count": null,
   "metadata": {},
   "outputs": [],
   "source": []
  }
 ],
 "metadata": {
  "kernelspec": {
   "display_name": "Python 3",
   "language": "python",
   "name": "python3"
  },
  "language_info": {
   "codemirror_mode": {
    "name": "ipython",
    "version": 3
   },
   "file_extension": ".py",
   "mimetype": "text/x-python",
   "name": "python",
   "nbconvert_exporter": "python",
   "pygments_lexer": "ipython3",
   "version": "3.8.5"
  }
 },
 "nbformat": 4,
 "nbformat_minor": 4
}
