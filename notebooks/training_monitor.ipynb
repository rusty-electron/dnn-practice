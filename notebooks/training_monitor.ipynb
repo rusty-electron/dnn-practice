{
  "nbformat": 4,
  "nbformat_minor": 0,
  "metadata": {
    "accelerator": "GPU",
    "colab": {
      "name": "training monitor",
      "provenance": [],
      "collapsed_sections": []
    },
    "kernelspec": {
      "display_name": "Python 3",
      "name": "python3"
    }
  },
  "cells": [
    {
      "cell_type": "markdown",
      "metadata": {
        "id": "NI5duAEMKUo6"
      },
      "source": [
        "### imports"
      ]
    },
    {
      "cell_type": "code",
      "metadata": {
        "id": "dSYyK90bNuqr"
      },
      "source": [
        "# imports for the TrainingMonitor class\n",
        "from keras.callbacks import BaseLogger\n",
        "import matplotlib.pyplot as plt\n",
        "import numpy as np\n",
        "import json\n",
        "import os\n",
        "\n",
        "from keras.layers import Conv2D, Activation, BatchNormalization, MaxPooling2D, Dropout, Flatten, Dense\n",
        "from keras.models import Sequential\n",
        "import keras.backend as k"
      ],
      "execution_count": 35,
      "outputs": []
    },
    {
      "cell_type": "markdown",
      "metadata": {
        "id": "vM-suCe6gEmG"
      },
      "source": [
        "### training monitor"
      ]
    },
    {
      "cell_type": "code",
      "metadata": {
        "id": "gi_aOZefPblp"
      },
      "source": [
        "class TrainingMonitor(BaseLogger):\n",
        "  def __init__(self, total_epochs, figPath, jsonPath=None, startAt=0):\n",
        "    super(TrainingMonitor, self).__init__()\n",
        "    self.figPath = figPath\n",
        "    self.jsonPath = jsonPath\n",
        "    self.startAt = startAt\n",
        "    self.firstrun = True\n",
        "    self.total_epochs = total_epochs\n",
        "\n",
        "    # for plotting\n",
        "    plt.style.use(\"ggplot\")\n",
        "    self.fig, self.ax = plt.subplots(constrained_layout=True, figsize=(6,4))\n",
        "    self.ax.set_xlabel(\"Epoch #\")\n",
        "    self.ax.set_ylabel(\"Loss/Accuracy\")\n",
        "    self.hdisplay = display(display_id=True)\n",
        "\n",
        "  def on_train_begin(self, logs={}):\n",
        "    self.H = {}\n",
        "\n",
        "    if self.jsonPath is not None:\n",
        "      if os.path.exists(self.jsonPath):\n",
        "        self.H = json.loads(open(self.jsonPath).read())\n",
        "\n",
        "        if self.startAt > 0:\n",
        "          for k in self.H.keys():\n",
        "            self.H[k] = self.H[k][:self.startAt]\n",
        "\n",
        "  def on_epoch_end(self, epoch, logs={}):\n",
        "    for (k, v) in logs.items():\n",
        "      l = self.H.get(k, [])\n",
        "      l.append(v)\n",
        "      self.H[k] = l\n",
        "\n",
        "    if self.jsonPath is not None:\n",
        "      f = open(self.jsonPath, \"w\")\n",
        "      f.write(json.dumps(self.H))\n",
        "      f.close()\n",
        "    \n",
        "    if len(self.H[\"loss\"]) > 1:\n",
        "      N = np.arange(0, len(self.H[\"loss\"]))\n",
        "\n",
        "      self.ax.cla()      \n",
        "      self.ax.plot(N, self.H[\"loss\"], 'r-', label=\"train_loss\")\n",
        "      self.ax.plot(N, self.H[\"val_loss\"], 'b-', label=\"val_loss\")\n",
        "      self.ax.plot(N, self.H[\"accuracy\"], 'g-', label=\"train_accuracy\")\n",
        "      self.ax.plot(N, self.H[\"val_accuracy\"], 'y-', label=\"val_accuracy\")\n",
        "      self.fig.suptitle(\"Training Loss and Accuracy [Epoch {}]\".format(len(self.H[\"loss\"])))\n",
        "\n",
        "      self.fig.legend(bbox_to_anchor=(1.05, 0.9), loc='upper left', borderaxespad=0.)\n",
        "\n",
        "      self.hdisplay.update(self.fig)\n",
        "      self.fig.savefig(self.figPath)\n",
        "   \n",
        "      if epoch+1 == self.total_epochs:\n",
        "        plt.close(self.fig)\n",
        "    "
      ],
      "execution_count": 44,
      "outputs": []
    },
    {
      "cell_type": "markdown",
      "metadata": {
        "id": "FVCSePB9Kdl9"
      },
      "source": [
        "### model"
      ]
    },
    {
      "cell_type": "code",
      "metadata": {
        "id": "sDwBu_Mnddws"
      },
      "source": [
        "class MiniVGGNet:\n",
        "  @staticmethod\n",
        "  def build(width, height, depth, classes):\n",
        "    # initialize the model along with the input shape to be\n",
        "    # \"channels last\" and the channels dimension itself\n",
        "    model = Sequential()\n",
        "    inputShape = (height, width, depth)\n",
        "    chanDim = -1\n",
        "\n",
        "    # if we are using \"channels first\", update the input shape\n",
        "    # and channels dimension\n",
        "    if k.image_data_format() == \"channels_first\":\n",
        "      inputShape = (depth, height, width)\n",
        "      chanDim = 1\n",
        "\n",
        "    # first CONV => RELU => CONV => RELU => POOL layer set\n",
        "    model.add(Conv2D(32, (3, 3), padding=\"same\", input_shape=inputShape))\n",
        "    model.add(Activation(\"relu\"))\n",
        "    model.add(BatchNormalization(axis=chanDim))\n",
        "    model.add(Conv2D(32, (3, 3), padding=\"same\"))\n",
        "    model.add(Activation(\"relu\"))\n",
        "    model.add(BatchNormalization(axis=chanDim))\n",
        "    model.add(MaxPooling2D(pool_size=(2, 2)))\n",
        "    model.add(Dropout(0.25))\n",
        "\n",
        "    # second CONV => RELU => CONV => RELU => POOL layer set\n",
        "    model.add(Conv2D(64, (3, 3), padding=\"same\"))\n",
        "    model.add(Activation(\"relu\"))\n",
        "    model.add(BatchNormalization(axis=chanDim))\n",
        "    model.add(Conv2D(64, (3, 3), padding=\"same\"))\n",
        "    model.add(Activation(\"relu\"))\n",
        "    model.add(BatchNormalization(axis=chanDim))\n",
        "    model.add(MaxPooling2D(pool_size=(2, 2)))\n",
        "    model.add(Dropout(0.25))\n",
        "\n",
        "    # first (and only) set of FC => RELU layers\n",
        "    model.add(Flatten())\n",
        "    model.add(Dense(512))\n",
        "    model.add(Activation(\"relu\"))\n",
        "    model.add(BatchNormalization())\n",
        "    model.add(Dropout(0.5))\n",
        "\n",
        "    # softmax classifier\n",
        "    model.add(Dense(classes))\n",
        "    model.add(Activation(\"softmax\"))\n",
        "    # return the constructed network architecture\n",
        "    return model"
      ],
      "execution_count": 37,
      "outputs": []
    },
    {
      "cell_type": "code",
      "metadata": {
        "id": "X-12s6aPIhGM"
      },
      "source": [
        "from sklearn.preprocessing import LabelBinarizer\n",
        "from keras.optimizers import SGD\n",
        "from keras.datasets import cifar10"
      ],
      "execution_count": 38,
      "outputs": []
    },
    {
      "cell_type": "code",
      "metadata": {
        "colab": {
          "base_uri": "https://localhost:8080/"
        },
        "id": "J8MoXDjjeLKz",
        "outputId": "d3019bbd-6eb7-4a17-8a7d-bc86496efd81"
      },
      "source": [
        "print(\"[INFO] process ID: {}\".format(os.getpid()))"
      ],
      "execution_count": 39,
      "outputs": [
        {
          "output_type": "stream",
          "text": [
            "[INFO] process ID: 1824\n"
          ],
          "name": "stdout"
        }
      ]
    },
    {
      "cell_type": "code",
      "metadata": {
        "colab": {
          "base_uri": "https://localhost:8080/"
        },
        "id": "0wRDFg2SeStr",
        "outputId": "03b26c8a-759b-4bcc-815b-41da3d129767"
      },
      "source": [
        "print(\"[INFO] loading cifar-10 data...\")\n",
        "(trainX, trainY), (testX, testY) = cifar10.load_data()\n",
        "trainX = trainX.astype('float') / 255.0\n",
        "testX = testX.astype('float') / 255.0\n",
        "\n",
        "lb = LabelBinarizer()\n",
        "trainY = lb.fit_transform(trainY)\n",
        "testY = lb.transform(testY)\n",
        "\n",
        "labelNames = [\"airplane\", \"automobile\", \"bird\", \"cat\", \"deer\", \"dog\", \"frog\", \"horse\", \"ship\", \"truck\"]"
      ],
      "execution_count": 40,
      "outputs": [
        {
          "output_type": "stream",
          "text": [
            "[INFO] loading cifar-10 data...\n"
          ],
          "name": "stdout"
        }
      ]
    },
    {
      "cell_type": "code",
      "metadata": {
        "colab": {
          "base_uri": "https://localhost:8080/"
        },
        "id": "BxbL9VosfK97",
        "outputId": "1bb7f7d7-9f78-4858-c098-1ea236b09ed4"
      },
      "source": [
        "print(\"[INFO] compiling model..\")\n",
        "opt = SGD(lr=0.01, momentum=0.9, nesterov=True)\n",
        "model = MiniVGGNet.build(width=32, height=32, depth=3, classes=10)\n",
        "model.compile(loss=\"categorical_crossentropy\", optimizer=opt, metrics=[\"accuracy\"])"
      ],
      "execution_count": 41,
      "outputs": [
        {
          "output_type": "stream",
          "text": [
            "[INFO] compiling model..\n"
          ],
          "name": "stdout"
        }
      ]
    },
    {
      "cell_type": "markdown",
      "metadata": {
        "id": "xG5-HTj7gKEF"
      },
      "source": [
        "### train call"
      ]
    },
    {
      "cell_type": "code",
      "metadata": {
        "colab": {
          "base_uri": "https://localhost:8080/"
        },
        "id": "UIxP9ApKfQRd",
        "outputId": "d17db17c-a389-4aec-8759-c2eb058a1864"
      },
      "source": [
        "!mkdir ./output\n",
        "!rm ./output/*.json"
      ],
      "execution_count": 42,
      "outputs": [
        {
          "output_type": "stream",
          "text": [
            "mkdir: cannot create directory ‘./output’: File exists\n"
          ],
          "name": "stdout"
        }
      ]
    },
    {
      "cell_type": "code",
      "metadata": {
        "colab": {
          "base_uri": "https://localhost:8080/",
          "height": 459
        },
        "id": "jseJT2xafPu0",
        "outputId": "182dec0e-8132-4ec6-a257-3fdc26794984"
      },
      "source": [
        "total_epochs = 3\n",
        "figPath = os.path.sep.join([\"./output\", \"{}.png\".format(os.getpid())])\n",
        "jsonPath = os.path.sep.join([\"./output\", \"{}.json\".format(os.getpid())])\n",
        "callbacks = [ TrainingMonitor(figPath=figPath, jsonPath=jsonPath, total_epochs=total_epochs) ]\n",
        "\n",
        "print(\"[INFO] training network...\")\n",
        "model.fit(trainX, trainY, validation_data=(testX, testY), batch_size=64, epochs=total_epochs, verbose=1, callbacks=callbacks)"
      ],
      "execution_count": 45,
      "outputs": [
        {
          "output_type": "stream",
          "text": [
            "[INFO] training network...\n",
            "Epoch 1/3\n",
            "782/782 [==============================] - 6s 8ms/step - loss: 0.8696 - accuracy: 0.6969 - val_loss: 0.7731 - val_accuracy: 0.7291\n"
          ],
          "name": "stdout"
        },
        {
          "output_type": "display_data",
          "data": {
            "image/png": "[encoded data removed]",
            "text/plain": [
              "<Figure size 432x288 with 1 Axes>"
            ]
          },
          "metadata": {
            "tags": []
          }
        },
        {
          "output_type": "stream",
          "text": [
            "Epoch 2/3\n",
            "782/782 [==============================] - 6s 8ms/step - loss: 0.7938 - accuracy: 0.7227 - val_loss: 0.8020 - val_accuracy: 0.7253\n",
            "Epoch 3/3\n",
            "782/782 [==============================] - 6s 8ms/step - loss: 0.7336 - accuracy: 0.7458 - val_loss: 0.6680 - val_accuracy: 0.7703\n"
          ],
          "name": "stdout"
        },
        {
          "output_type": "execute_result",
          "data": {
            "text/plain": [
              "<tensorflow.python.keras.callbacks.History at 0x7f4d262db890>"
            ]
          },
          "metadata": {
            "tags": []
          },
          "execution_count": 45
        }
      ]
    },
    {
      "cell_type": "code",
      "metadata": {
        "id": "9lLvwrzVfR5D"
      },
      "source": [
        ""
      ],
      "execution_count": 45,
      "outputs": []
    }
  ]
}