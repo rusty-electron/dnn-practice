{
  "nbformat": 4,
  "nbformat_minor": 0,
  "metadata": {
    "kernelspec": {
      "display_name": "Python 3",
      "language": "python",
      "name": "python3"
    },
    "language_info": {
      "codemirror_mode": {
        "name": "ipython",
        "version": 3
      },
      "file_extension": ".py",
      "mimetype": "text/x-python",
      "name": "python",
      "nbconvert_exporter": "python",
      "pygments_lexer": "ipython3",
      "version": "3.8.5"
    },
    "colab": {
      "name": "keras_cifar10.ipynb",
      "provenance": [],
      "collapsed_sections": []
    },
    "accelerator": "GPU"
  },
  "cells": [
    {
      "cell_type": "code",
      "metadata": {
        "id": "NrokKSkdNihg"
      },
      "source": [
        "from sklearn.preprocessing import LabelBinarizer\n",
        "from sklearn.metrics import classification_report\n",
        "from keras.models import Sequential\n",
        "from keras.layers import Dense\n",
        "from keras.optimizers import SGD\n",
        "from keras.datasets import cifar10\n",
        "import matplotlib.pyplot as plt\n",
        "import numpy as np\n",
        "import argparse"
      ],
      "execution_count": 14,
      "outputs": []
    },
    {
      "cell_type": "code",
      "metadata": {
        "colab": {
          "base_uri": "https://localhost:8080/"
        },
        "id": "ns_0AQyPNihs",
        "outputId": "c2bead12-a868-4599-a20a-563281c9ae11"
      },
      "source": [
        "print(\"[INFO] loading CIFAR-10 data...\")\n",
        "((trainX, trainY), (testX, testY)) = cifar10.load_data()\n",
        "trainX = trainX.astype(\"float\") / 255.0\n",
        "testX = testX.astype(\"float\") / 255.0\n",
        "trainX = trainX.reshape((trainX.shape[0], 3072))\n",
        "testX = testX.reshape((testX.shape[0], 3072))"
      ],
      "execution_count": 2,
      "outputs": [
        {
          "output_type": "stream",
          "text": [
            "[INFO] loading CIFAR-10 data...\n",
            "Downloading data from https://www.cs.toronto.edu/~kriz/cifar-10-python.tar.gz\n",
            "170500096/170498071 [==============================] - 2s 0us/step\n"
          ],
          "name": "stdout"
        }
      ]
    },
    {
      "cell_type": "code",
      "metadata": {
        "id": "QgcElf31Nihv"
      },
      "source": [
        "# convert the labels from integers to vectors\n",
        "lb = LabelBinarizer()\n",
        "trainY = lb.fit_transform(trainY)\n",
        "testY = lb.transform(testY)\n",
        "\n",
        "# initialize the label names for the CIFAR-10 dataset\n",
        "labelNames = [\"airplane\", \"automobile\", \"bird\", \"cat\", \"deer\", \n",
        "        \"dog\", \"frog\", \"horse\", \"ship\", \"truck\"]"
      ],
      "execution_count": 3,
      "outputs": []
    },
    {
      "cell_type": "code",
      "metadata": {
        "id": "m4RV590wNihv"
      },
      "source": [
        "model = Sequential()\n",
        "model.add(Dense(1024, input_shape=(3072,), activation=\"relu\"))\n",
        "model.add(Dense(512, activation=\"relu\"))\n",
        "model.add(Dense(10, activation=\"softmax\"))"
      ],
      "execution_count": 20,
      "outputs": []
    },
    {
      "cell_type": "code",
      "metadata": {
        "colab": {
          "base_uri": "https://localhost:8080/"
        },
        "id": "8DDZpsAuNihw",
        "outputId": "b53456d2-b07d-43de-c2cf-ce7a90fe9bb0"
      },
      "source": [
        "print(\"[INFO] training network...\")\n",
        "sgd = SGD(0.01)\n",
        "model.compile(loss=\"categorical_crossentropy\", optimizer=sgd, metrics=[\"accuracy\"])\n",
        "H = model.fit(trainX, trainY, validation_data=(testX, testY), epochs=100, batch_size=32)"
      ],
      "execution_count": 21,
      "outputs": [
        {
          "output_type": "stream",
          "text": [
            "[INFO] training network...\n",
            "Epoch 1/100\n",
            "1563/1563 [==============================] - 5s 3ms/step - loss: 1.9531 - accuracy: 0.2988 - val_loss: 1.6822 - val_accuracy: 0.4078\n",
            "Epoch 2/100\n",
            "1563/1563 [==============================] - 5s 3ms/step - loss: 1.6645 - accuracy: 0.4122 - val_loss: 1.6814 - val_accuracy: 0.3971\n",
            "Epoch 3/100\n",
            "1563/1563 [==============================] - 5s 3ms/step - loss: 1.5821 - accuracy: 0.4393 - val_loss: 1.7142 - val_accuracy: 0.3981\n",
            "Epoch 4/100\n",
            "1563/1563 [==============================] - 5s 3ms/step - loss: 1.5171 - accuracy: 0.4641 - val_loss: 1.5192 - val_accuracy: 0.4568\n",
            "Epoch 5/100\n",
            "1563/1563 [==============================] - 5s 3ms/step - loss: 1.4685 - accuracy: 0.4796 - val_loss: 1.5010 - val_accuracy: 0.4712\n",
            "Epoch 6/100\n",
            "1563/1563 [==============================] - 5s 3ms/step - loss: 1.4309 - accuracy: 0.4975 - val_loss: 1.4645 - val_accuracy: 0.4819\n",
            "Epoch 7/100\n",
            "1563/1563 [==============================] - 5s 3ms/step - loss: 1.3830 - accuracy: 0.5148 - val_loss: 1.4422 - val_accuracy: 0.4862\n",
            "Epoch 8/100\n",
            "1563/1563 [==============================] - 5s 3ms/step - loss: 1.3499 - accuracy: 0.5248 - val_loss: 1.4467 - val_accuracy: 0.4805\n",
            "Epoch 9/100\n",
            "1563/1563 [==============================] - 5s 3ms/step - loss: 1.3191 - accuracy: 0.5396 - val_loss: 1.4298 - val_accuracy: 0.4924\n",
            "Epoch 10/100\n",
            "1563/1563 [==============================] - 5s 3ms/step - loss: 1.2954 - accuracy: 0.5443 - val_loss: 1.5027 - val_accuracy: 0.4681\n",
            "Epoch 11/100\n",
            "1563/1563 [==============================] - 5s 3ms/step - loss: 1.2670 - accuracy: 0.5578 - val_loss: 1.3665 - val_accuracy: 0.5181\n",
            "Epoch 12/100\n",
            "1563/1563 [==============================] - 5s 3ms/step - loss: 1.2373 - accuracy: 0.5652 - val_loss: 1.4010 - val_accuracy: 0.5005\n",
            "Epoch 13/100\n",
            "1563/1563 [==============================] - 5s 3ms/step - loss: 1.2135 - accuracy: 0.5757 - val_loss: 1.4170 - val_accuracy: 0.5016\n",
            "Epoch 14/100\n",
            "1563/1563 [==============================] - 5s 3ms/step - loss: 1.1967 - accuracy: 0.5799 - val_loss: 1.3810 - val_accuracy: 0.5154\n",
            "Epoch 15/100\n",
            "1563/1563 [==============================] - 5s 3ms/step - loss: 1.1700 - accuracy: 0.5887 - val_loss: 1.5008 - val_accuracy: 0.4662\n",
            "Epoch 16/100\n",
            "1563/1563 [==============================] - 5s 3ms/step - loss: 1.1491 - accuracy: 0.5959 - val_loss: 1.3382 - val_accuracy: 0.5255\n",
            "Epoch 17/100\n",
            "1563/1563 [==============================] - 5s 3ms/step - loss: 1.1247 - accuracy: 0.6050 - val_loss: 1.4730 - val_accuracy: 0.4963\n",
            "Epoch 18/100\n",
            "1563/1563 [==============================] - 5s 3ms/step - loss: 1.1042 - accuracy: 0.6113 - val_loss: 1.5119 - val_accuracy: 0.4919\n",
            "Epoch 19/100\n",
            "1563/1563 [==============================] - 5s 3ms/step - loss: 1.0906 - accuracy: 0.6189 - val_loss: 1.3752 - val_accuracy: 0.5217\n",
            "Epoch 20/100\n",
            "1563/1563 [==============================] - 5s 3ms/step - loss: 1.0585 - accuracy: 0.6299 - val_loss: 1.5011 - val_accuracy: 0.4830\n",
            "Epoch 21/100\n",
            "1563/1563 [==============================] - 5s 3ms/step - loss: 1.0298 - accuracy: 0.6385 - val_loss: 1.4408 - val_accuracy: 0.5063\n",
            "Epoch 22/100\n",
            "1563/1563 [==============================] - 5s 3ms/step - loss: 1.0135 - accuracy: 0.6487 - val_loss: 1.3305 - val_accuracy: 0.5370\n",
            "Epoch 23/100\n",
            "1563/1563 [==============================] - 5s 3ms/step - loss: 0.9969 - accuracy: 0.6516 - val_loss: 1.3988 - val_accuracy: 0.5096\n",
            "Epoch 24/100\n",
            "1563/1563 [==============================] - 5s 3ms/step - loss: 0.9748 - accuracy: 0.6625 - val_loss: 1.4325 - val_accuracy: 0.5093\n",
            "Epoch 25/100\n",
            "1563/1563 [==============================] - 5s 3ms/step - loss: 0.9530 - accuracy: 0.6680 - val_loss: 1.3277 - val_accuracy: 0.5385\n",
            "Epoch 26/100\n",
            "1563/1563 [==============================] - 5s 3ms/step - loss: 0.9332 - accuracy: 0.6761 - val_loss: 1.3370 - val_accuracy: 0.5309\n",
            "Epoch 27/100\n",
            "1563/1563 [==============================] - 5s 3ms/step - loss: 0.9083 - accuracy: 0.6853 - val_loss: 1.3433 - val_accuracy: 0.5346\n",
            "Epoch 28/100\n",
            "1563/1563 [==============================] - 5s 3ms/step - loss: 0.8927 - accuracy: 0.6910 - val_loss: 1.3709 - val_accuracy: 0.5297\n",
            "Epoch 29/100\n",
            "1563/1563 [==============================] - 5s 3ms/step - loss: 0.8644 - accuracy: 0.7004 - val_loss: 1.3148 - val_accuracy: 0.5520\n",
            "Epoch 30/100\n",
            "1563/1563 [==============================] - 5s 3ms/step - loss: 0.8459 - accuracy: 0.7082 - val_loss: 1.4478 - val_accuracy: 0.5137\n",
            "Epoch 31/100\n",
            "1563/1563 [==============================] - 5s 3ms/step - loss: 0.8204 - accuracy: 0.7149 - val_loss: 1.3788 - val_accuracy: 0.5403\n",
            "Epoch 32/100\n",
            "1563/1563 [==============================] - 5s 3ms/step - loss: 0.8034 - accuracy: 0.7214 - val_loss: 1.4988 - val_accuracy: 0.5022\n",
            "Epoch 33/100\n",
            "1563/1563 [==============================] - 5s 3ms/step - loss: 0.7863 - accuracy: 0.7293 - val_loss: 1.3812 - val_accuracy: 0.5384\n",
            "Epoch 34/100\n",
            "1563/1563 [==============================] - 5s 3ms/step - loss: 0.7622 - accuracy: 0.7367 - val_loss: 1.4396 - val_accuracy: 0.5231\n",
            "Epoch 35/100\n",
            "1563/1563 [==============================] - 5s 3ms/step - loss: 0.7353 - accuracy: 0.7460 - val_loss: 1.4318 - val_accuracy: 0.5394\n",
            "Epoch 36/100\n",
            "1563/1563 [==============================] - 5s 3ms/step - loss: 0.7207 - accuracy: 0.7518 - val_loss: 1.4327 - val_accuracy: 0.5391\n",
            "Epoch 37/100\n",
            "1563/1563 [==============================] - 5s 3ms/step - loss: 0.7025 - accuracy: 0.7622 - val_loss: 1.4527 - val_accuracy: 0.5388\n",
            "Epoch 38/100\n",
            "1563/1563 [==============================] - 5s 3ms/step - loss: 0.6803 - accuracy: 0.7682 - val_loss: 1.5211 - val_accuracy: 0.5174\n",
            "Epoch 39/100\n",
            "1563/1563 [==============================] - 5s 3ms/step - loss: 0.6583 - accuracy: 0.7770 - val_loss: 1.4194 - val_accuracy: 0.5493\n",
            "Epoch 40/100\n",
            "1563/1563 [==============================] - 5s 3ms/step - loss: 0.6439 - accuracy: 0.7798 - val_loss: 1.4589 - val_accuracy: 0.5362\n",
            "Epoch 41/100\n",
            "1563/1563 [==============================] - 5s 3ms/step - loss: 0.6182 - accuracy: 0.7944 - val_loss: 1.3996 - val_accuracy: 0.5518\n",
            "Epoch 42/100\n",
            "1563/1563 [==============================] - 5s 3ms/step - loss: 0.5965 - accuracy: 0.7977 - val_loss: 1.4287 - val_accuracy: 0.5534\n",
            "Epoch 43/100\n",
            "1563/1563 [==============================] - 5s 3ms/step - loss: 0.5778 - accuracy: 0.8054 - val_loss: 1.4486 - val_accuracy: 0.5465\n",
            "Epoch 44/100\n",
            "1563/1563 [==============================] - 5s 3ms/step - loss: 0.5614 - accuracy: 0.8123 - val_loss: 1.5798 - val_accuracy: 0.5293\n",
            "Epoch 45/100\n",
            "1563/1563 [==============================] - 5s 3ms/step - loss: 0.5409 - accuracy: 0.8192 - val_loss: 1.7774 - val_accuracy: 0.4938\n",
            "Epoch 46/100\n",
            "1563/1563 [==============================] - 5s 3ms/step - loss: 0.5228 - accuracy: 0.8273 - val_loss: 1.5029 - val_accuracy: 0.5383\n",
            "Epoch 47/100\n",
            "1563/1563 [==============================] - 5s 3ms/step - loss: 0.5039 - accuracy: 0.8325 - val_loss: 1.5506 - val_accuracy: 0.5439\n",
            "Epoch 48/100\n",
            "1563/1563 [==============================] - 5s 3ms/step - loss: 0.4915 - accuracy: 0.8371 - val_loss: 1.6885 - val_accuracy: 0.5211\n",
            "Epoch 49/100\n",
            "1563/1563 [==============================] - 5s 3ms/step - loss: 0.4669 - accuracy: 0.8476 - val_loss: 1.6481 - val_accuracy: 0.5346\n",
            "Epoch 50/100\n",
            "1563/1563 [==============================] - 5s 3ms/step - loss: 0.4566 - accuracy: 0.8486 - val_loss: 1.5838 - val_accuracy: 0.5428\n",
            "Epoch 51/100\n",
            "1563/1563 [==============================] - 5s 3ms/step - loss: 0.4349 - accuracy: 0.8575 - val_loss: 1.5115 - val_accuracy: 0.5564\n",
            "Epoch 52/100\n",
            "1563/1563 [==============================] - 5s 3ms/step - loss: 0.4145 - accuracy: 0.8642 - val_loss: 1.6045 - val_accuracy: 0.5412\n",
            "Epoch 53/100\n",
            "1563/1563 [==============================] - 5s 3ms/step - loss: 0.4063 - accuracy: 0.8671 - val_loss: 1.7798 - val_accuracy: 0.5090\n",
            "Epoch 54/100\n",
            "1563/1563 [==============================] - 5s 3ms/step - loss: 0.3794 - accuracy: 0.8789 - val_loss: 1.6488 - val_accuracy: 0.5432\n",
            "Epoch 55/100\n",
            "1563/1563 [==============================] - 5s 3ms/step - loss: 0.3720 - accuracy: 0.8811 - val_loss: 1.6329 - val_accuracy: 0.5549\n",
            "Epoch 56/100\n",
            "1563/1563 [==============================] - 5s 3ms/step - loss: 0.3516 - accuracy: 0.8888 - val_loss: 1.7120 - val_accuracy: 0.5379\n",
            "Epoch 57/100\n",
            "1563/1563 [==============================] - 5s 3ms/step - loss: 0.3335 - accuracy: 0.8956 - val_loss: 1.9036 - val_accuracy: 0.5120\n",
            "Epoch 58/100\n",
            "1563/1563 [==============================] - 5s 3ms/step - loss: 0.3305 - accuracy: 0.8962 - val_loss: 1.7357 - val_accuracy: 0.5481\n",
            "Epoch 59/100\n",
            "1563/1563 [==============================] - 5s 3ms/step - loss: 0.3144 - accuracy: 0.9017 - val_loss: 1.7867 - val_accuracy: 0.5343\n",
            "Epoch 60/100\n",
            "1563/1563 [==============================] - 5s 3ms/step - loss: 0.2885 - accuracy: 0.9104 - val_loss: 1.9148 - val_accuracy: 0.5277\n",
            "Epoch 61/100\n",
            "1563/1563 [==============================] - 5s 3ms/step - loss: 0.2833 - accuracy: 0.9108 - val_loss: 1.8367 - val_accuracy: 0.5356\n",
            "Epoch 62/100\n",
            "1563/1563 [==============================] - 5s 3ms/step - loss: 0.2764 - accuracy: 0.9144 - val_loss: 2.0178 - val_accuracy: 0.5108\n",
            "Epoch 63/100\n",
            "1563/1563 [==============================] - 5s 3ms/step - loss: 0.2595 - accuracy: 0.9195 - val_loss: 1.7376 - val_accuracy: 0.5515\n",
            "Epoch 64/100\n",
            "1563/1563 [==============================] - 5s 3ms/step - loss: 0.2489 - accuracy: 0.9255 - val_loss: 1.7277 - val_accuracy: 0.5615\n",
            "Epoch 65/100\n",
            "1563/1563 [==============================] - 5s 3ms/step - loss: 0.2288 - accuracy: 0.9332 - val_loss: 1.9102 - val_accuracy: 0.5479\n",
            "Epoch 66/100\n",
            "1563/1563 [==============================] - 5s 3ms/step - loss: 0.2187 - accuracy: 0.9359 - val_loss: 1.8491 - val_accuracy: 0.5430\n",
            "Epoch 67/100\n",
            "1563/1563 [==============================] - 5s 3ms/step - loss: 0.2113 - accuracy: 0.9384 - val_loss: 1.8196 - val_accuracy: 0.5531\n",
            "Epoch 68/100\n",
            "1563/1563 [==============================] - 5s 3ms/step - loss: 0.2032 - accuracy: 0.9414 - val_loss: 1.8312 - val_accuracy: 0.5658\n",
            "Epoch 69/100\n",
            "1563/1563 [==============================] - 5s 3ms/step - loss: 0.1902 - accuracy: 0.9464 - val_loss: 1.9100 - val_accuracy: 0.5449\n",
            "Epoch 70/100\n",
            "1563/1563 [==============================] - 5s 3ms/step - loss: 0.1902 - accuracy: 0.9453 - val_loss: 1.8840 - val_accuracy: 0.5527\n",
            "Epoch 71/100\n",
            "1563/1563 [==============================] - 5s 3ms/step - loss: 0.1754 - accuracy: 0.9514 - val_loss: 1.9235 - val_accuracy: 0.5461\n",
            "Epoch 72/100\n",
            "1563/1563 [==============================] - 5s 3ms/step - loss: 0.1621 - accuracy: 0.9571 - val_loss: 2.1778 - val_accuracy: 0.5318\n",
            "Epoch 73/100\n",
            "1563/1563 [==============================] - 5s 3ms/step - loss: 0.1525 - accuracy: 0.9581 - val_loss: 1.8701 - val_accuracy: 0.5588\n",
            "Epoch 74/100\n",
            "1563/1563 [==============================] - 5s 3ms/step - loss: 0.1482 - accuracy: 0.9593 - val_loss: 2.0480 - val_accuracy: 0.5406\n",
            "Epoch 75/100\n",
            "1563/1563 [==============================] - 5s 3ms/step - loss: 0.1393 - accuracy: 0.9638 - val_loss: 2.0069 - val_accuracy: 0.5503\n",
            "Epoch 76/100\n",
            "1563/1563 [==============================] - 5s 3ms/step - loss: 0.1254 - accuracy: 0.9695 - val_loss: 2.0077 - val_accuracy: 0.5545\n",
            "Epoch 77/100\n",
            "1563/1563 [==============================] - 5s 3ms/step - loss: 0.1212 - accuracy: 0.9707 - val_loss: 1.9609 - val_accuracy: 0.5601\n",
            "Epoch 78/100\n",
            "1563/1563 [==============================] - 5s 3ms/step - loss: 0.1174 - accuracy: 0.9714 - val_loss: 2.0344 - val_accuracy: 0.5588\n",
            "Epoch 79/100\n",
            "1563/1563 [==============================] - 5s 3ms/step - loss: 0.1124 - accuracy: 0.9722 - val_loss: 2.1164 - val_accuracy: 0.5486\n",
            "Epoch 80/100\n",
            "1563/1563 [==============================] - 5s 3ms/step - loss: 0.0965 - accuracy: 0.9781 - val_loss: 2.1184 - val_accuracy: 0.5527\n",
            "Epoch 81/100\n",
            "1563/1563 [==============================] - 5s 3ms/step - loss: 0.0976 - accuracy: 0.9786 - val_loss: 2.0544 - val_accuracy: 0.5618\n",
            "Epoch 82/100\n",
            "1563/1563 [==============================] - 5s 3ms/step - loss: 0.0844 - accuracy: 0.9823 - val_loss: 2.0639 - val_accuracy: 0.5546\n",
            "Epoch 83/100\n",
            "1563/1563 [==============================] - 5s 3ms/step - loss: 0.0816 - accuracy: 0.9831 - val_loss: 2.2837 - val_accuracy: 0.5372\n",
            "Epoch 84/100\n",
            "1563/1563 [==============================] - 5s 3ms/step - loss: 0.0777 - accuracy: 0.9838 - val_loss: 2.1185 - val_accuracy: 0.5564\n",
            "Epoch 85/100\n",
            "1563/1563 [==============================] - 5s 3ms/step - loss: 0.0793 - accuracy: 0.9818 - val_loss: 2.1166 - val_accuracy: 0.5577\n",
            "Epoch 86/100\n",
            "1563/1563 [==============================] - 5s 3ms/step - loss: 0.0647 - accuracy: 0.9879 - val_loss: 2.1409 - val_accuracy: 0.5597\n",
            "Epoch 87/100\n",
            "1563/1563 [==============================] - 5s 3ms/step - loss: 0.0606 - accuracy: 0.9884 - val_loss: 2.1465 - val_accuracy: 0.5610\n",
            "Epoch 88/100\n",
            "1563/1563 [==============================] - 5s 3ms/step - loss: 0.0596 - accuracy: 0.9885 - val_loss: 2.1710 - val_accuracy: 0.5573\n",
            "Epoch 89/100\n",
            "1563/1563 [==============================] - 5s 3ms/step - loss: 0.0577 - accuracy: 0.9893 - val_loss: 2.1469 - val_accuracy: 0.5638\n",
            "Epoch 90/100\n",
            "1563/1563 [==============================] - 5s 3ms/step - loss: 0.0470 - accuracy: 0.9927 - val_loss: 2.2793 - val_accuracy: 0.5580\n",
            "Epoch 91/100\n",
            "1563/1563 [==============================] - 5s 3ms/step - loss: 0.0474 - accuracy: 0.9925 - val_loss: 2.2376 - val_accuracy: 0.5621\n",
            "Epoch 92/100\n",
            "1563/1563 [==============================] - 5s 3ms/step - loss: 0.0417 - accuracy: 0.9940 - val_loss: 2.2718 - val_accuracy: 0.5563\n",
            "Epoch 93/100\n",
            "1563/1563 [==============================] - 5s 3ms/step - loss: 0.0399 - accuracy: 0.9943 - val_loss: 2.2660 - val_accuracy: 0.5598\n",
            "Epoch 94/100\n",
            "1563/1563 [==============================] - 5s 3ms/step - loss: 0.0379 - accuracy: 0.9951 - val_loss: 2.2746 - val_accuracy: 0.5634\n",
            "Epoch 95/100\n",
            "1563/1563 [==============================] - 5s 3ms/step - loss: 0.0363 - accuracy: 0.9954 - val_loss: 2.2638 - val_accuracy: 0.5620\n",
            "Epoch 96/100\n",
            "1563/1563 [==============================] - 5s 3ms/step - loss: 0.0304 - accuracy: 0.9968 - val_loss: 2.2662 - val_accuracy: 0.5625\n",
            "Epoch 97/100\n",
            "1563/1563 [==============================] - 5s 3ms/step - loss: 0.0302 - accuracy: 0.9966 - val_loss: 2.2969 - val_accuracy: 0.5697\n",
            "Epoch 98/100\n",
            "1563/1563 [==============================] - 5s 3ms/step - loss: 0.0292 - accuracy: 0.9966 - val_loss: 2.3495 - val_accuracy: 0.5595\n",
            "Epoch 99/100\n",
            "1563/1563 [==============================] - 5s 3ms/step - loss: 0.0270 - accuracy: 0.9970 - val_loss: 2.3078 - val_accuracy: 0.5659\n",
            "Epoch 100/100\n",
            "1563/1563 [==============================] - 5s 3ms/step - loss: 0.0252 - accuracy: 0.9975 - val_loss: 2.3531 - val_accuracy: 0.5641\n"
          ],
          "name": "stdout"
        }
      ]
    },
    {
      "cell_type": "code",
      "metadata": {
        "colab": {
          "base_uri": "https://localhost:8080/"
        },
        "id": "anaPrk2tNihx",
        "outputId": "b0c0e954-cc66-4c9b-e035-028384c57fbc"
      },
      "source": [
        "print(\"[INFO] evaluating network...\")\n",
        "predictions = model.predict(testX, batch_size=32)\n",
        "print(classification_report(testY.argmax(axis=1), predictions.argmax(axis=1), target_names=labelNames))"
      ],
      "execution_count": 22,
      "outputs": [
        {
          "output_type": "stream",
          "text": [
            "[INFO] evaluating network...\n",
            "              precision    recall  f1-score   support\n",
            "\n",
            "    airplane       0.61      0.70      0.65      1000\n",
            "  automobile       0.70      0.63      0.66      1000\n",
            "        bird       0.49      0.40      0.44      1000\n",
            "         cat       0.36      0.44      0.39      1000\n",
            "        deer       0.49      0.50      0.50      1000\n",
            "         dog       0.49      0.44      0.46      1000\n",
            "        frog       0.60      0.63      0.61      1000\n",
            "       horse       0.67      0.61      0.64      1000\n",
            "        ship       0.71      0.64      0.67      1000\n",
            "       truck       0.59      0.65      0.62      1000\n",
            "\n",
            "    accuracy                           0.56     10000\n",
            "   macro avg       0.57      0.56      0.56     10000\n",
            "weighted avg       0.57      0.56      0.56     10000\n",
            "\n"
          ],
          "name": "stdout"
        }
      ]
    },
    {
      "cell_type": "code",
      "metadata": {
        "colab": {
          "base_uri": "https://localhost:8080/",
          "height": 299
        },
        "id": "K4kfuuiBYUka",
        "outputId": "2f5f7375-7f0c-48df-cf4f-412f527e0e4d"
      },
      "source": [
        "# plot the training loss and accuracy\n",
        "plt.style.use(\"ggplot\")\n",
        "plt.figure()\n",
        "plt.plot(np.arange(0, 100), H.history[\"loss\"], label=\"train_loss\")\n",
        "plt.plot(np.arange(0, 100), H.history[\"val_loss\"], label=\"val_loss\")\n",
        "plt.plot(np.arange(0, 100), H.history[\"accuracy\"], label=\"train_acc\")\n",
        "plt.plot(np.arange(0, 100), H.history[\"val_accuracy\"], label=\"val_acc\")\n",
        "plt.title(\"Training Loss and Accuracy\")\n",
        "plt.xlabel(\"Epoch #\")\n",
        "plt.ylabel(\"Loss/Accuracy\")\n",
        "plt.legend()\n",
        "plt.show()"
      ],
      "execution_count": 23,
      "outputs": [
        {
          "output_type": "display_data",
          "data": {
            "image/png": "[encoded data removed]",
            "text/plain": [
              "<Figure size 432x288 with 1 Axes>"
            ]
          },
          "metadata": {
            "tags": []
          }
        }
      ]
    }
  ]
}