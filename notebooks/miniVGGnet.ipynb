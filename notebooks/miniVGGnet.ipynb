{
  "nbformat": 4,
  "nbformat_minor": 0,
  "metadata": {
    "colab": {
      "name": "miniVGGnet",
      "provenance": [],
      "collapsed_sections": []
    },
    "kernelspec": {
      "name": "python3",
      "display_name": "Python 3"
    },
    "accelerator": "GPU"
  },
  "cells": [
    {
      "cell_type": "code",
      "metadata": {
        "id": "GL8VC8WjhfXG"
      },
      "source": [
        "from keras.models import Sequential\n",
        "from keras.optimizers import SGD\n",
        "from keras.layers import BatchNormalization, Conv2D, MaxPooling2D, Activation, Flatten, Dropout, Dense\n",
        "from keras import backend as k"
      ],
      "execution_count": 1,
      "outputs": []
    },
    {
      "cell_type": "code",
      "metadata": {
        "id": "1l-bhH3qh83B"
      },
      "source": [
        "class MiniVGGNet:\n",
        "  @staticmethod\n",
        "  def build(width, height, depth, classes):\n",
        "    # initialize the model along with the input shape to be\n",
        "    # \"channels last\" and the channels dimension itself\n",
        "    model = Sequential()\n",
        "    inputShape = (height, width, depth)\n",
        "    chanDim = -1\n",
        "\n",
        "    # if we are using \"channels first\", update the input shape\n",
        "    # and channels dimension\n",
        "    if k.image_data_format() == \"channels_first\":\n",
        "      inputShape = (depth, height, width)\n",
        "      chanDim = 1\n",
        "\n",
        "    # first CONV => RELU => CONV => RELU => POOL layer set\n",
        "    model.add(Conv2D(32, (3, 3), padding=\"same\", input_shape=inputShape))\n",
        "    model.add(Activation(\"relu\"))\n",
        "    model.add(BatchNormalization(axis=chanDim))\n",
        "    model.add(Conv2D(32, (3, 3), padding=\"same\"))\n",
        "    model.add(Activation(\"relu\"))\n",
        "    model.add(BatchNormalization(axis=chanDim))\n",
        "    model.add(MaxPooling2D(pool_size=(2, 2)))\n",
        "    model.add(Dropout(0.25))\n",
        "\n",
        "    # second CONV => RELU => CONV => RELU => POOL layer set\n",
        "    model.add(Conv2D(64, (3, 3), padding=\"same\"))\n",
        "    model.add(Activation(\"relu\"))\n",
        "    model.add(BatchNormalization(axis=chanDim))\n",
        "    model.add(Conv2D(64, (3, 3), padding=\"same\"))\n",
        "    model.add(Activation(\"relu\"))\n",
        "    model.add(BatchNormalization(axis=chanDim))\n",
        "    model.add(MaxPooling2D(pool_size=(2, 2)))\n",
        "    model.add(Dropout(0.25))\n",
        "\n",
        "    # first (and only) set of FC => RELU layers\n",
        "    model.add(Flatten())\n",
        "    model.add(Dense(512))\n",
        "    model.add(Activation(\"relu\"))\n",
        "    model.add(BatchNormalization())\n",
        "    model.add(Dropout(0.5))\n",
        "\n",
        "    # softmax classifier\n",
        "    model.add(Dense(classes))\n",
        "    model.add(Activation(\"softmax\"))\n",
        "    # return the constructed network architecture\n",
        "    return model"
      ],
      "execution_count": 2,
      "outputs": []
    },
    {
      "cell_type": "code",
      "metadata": {
        "id": "RMaBbVBHjZjH"
      },
      "source": [
        "from keras.datasets import cifar10\n",
        "from sklearn.preprocessing import LabelBinarizer\n",
        "from sklearn.metrics import classification_report\n",
        "import matplotlib.pyplot as plt\n",
        "import numpy as np"
      ],
      "execution_count": 3,
      "outputs": []
    },
    {
      "cell_type": "code",
      "metadata": {
        "id": "4qsOC2yEjq3U"
      },
      "source": [
        "# load cifar10 dataset\n",
        "(x_train, y_train), (x_test, y_test) = cifar10.load_data()\n",
        "\n",
        "x_train = x_train.astype(\"float\") / 255.0\n",
        "x_test = x_test.astype(\"float\") / 255.0\n",
        "\n",
        "no_of_classes = 10\n",
        "\n",
        "lb = LabelBinarizer()\n",
        "y_train = lb.fit_transform(y_train)\n",
        "y_test = lb.transform(y_test)\n",
        "\n",
        "# initialize the label names for the CIFAR-10 dataset\n",
        "labelNames = [\"airplane\", \"automobile\", \"bird\", \"cat\", \"deer\",\n",
        "\"dog\", \"frog\", \"horse\", \"ship\", \"truck\"]"
      ],
      "execution_count": 4,
      "outputs": []
    },
    {
      "cell_type": "code",
      "metadata": {
        "id": "oEY7eOqxl_ZE"
      },
      "source": [
        "(h, w, d) = x_train.shape[1:]\n",
        "model = MiniVGGNet.build(h, w, d, no_of_classes)"
      ],
      "execution_count": 5,
      "outputs": []
    },
    {
      "cell_type": "code",
      "metadata": {
        "id": "nDetzfS1mL80"
      },
      "source": [
        "opt = SGD(lr=0.01, decay=0.01 / 40, momentum=0.9, nesterov=True)\n",
        "model.compile(optimizer=opt, loss=\"categorical_crossentropy\", metrics=[\"accuracy\"])"
      ],
      "execution_count": 6,
      "outputs": []
    },
    {
      "cell_type": "code",
      "metadata": {
        "colab": {
          "base_uri": "https://localhost:8080/"
        },
        "id": "nEheskCAmNlt",
        "outputId": "25b33620-c731-4034-9fe6-badb8705c524"
      },
      "source": [
        "H = model.fit(x_train, y_train, validation_data=(x_test, y_test), batch_size=64, epochs=40, verbose=1)"
      ],
      "execution_count": 7,
      "outputs": [
        {
          "output_type": "stream",
          "text": [
            "Epoch 1/40\n",
            "782/782 [==============================] - 10s 9ms/step - loss: 1.9824 - accuracy: 0.3768 - val_loss: 1.5812 - val_accuracy: 0.4869\n",
            "Epoch 2/40\n",
            "782/782 [==============================] - 6s 8ms/step - loss: 1.2097 - accuracy: 0.5839 - val_loss: 0.9572 - val_accuracy: 0.6608\n",
            "Epoch 3/40\n",
            "782/782 [==============================] - 6s 8ms/step - loss: 0.9973 - accuracy: 0.6501 - val_loss: 0.8041 - val_accuracy: 0.7211\n",
            "Epoch 4/40\n",
            "782/782 [==============================] - 6s 8ms/step - loss: 0.8720 - accuracy: 0.6956 - val_loss: 0.8532 - val_accuracy: 0.6979\n",
            "Epoch 5/40\n",
            "782/782 [==============================] - 6s 8ms/step - loss: 0.7949 - accuracy: 0.7152 - val_loss: 0.7585 - val_accuracy: 0.7355\n",
            "Epoch 6/40\n",
            "782/782 [==============================] - 7s 8ms/step - loss: 0.7313 - accuracy: 0.7391 - val_loss: 0.7285 - val_accuracy: 0.7518\n",
            "Epoch 7/40\n",
            "782/782 [==============================] - 6s 8ms/step - loss: 0.6881 - accuracy: 0.7555 - val_loss: 0.6699 - val_accuracy: 0.7669\n",
            "Epoch 8/40\n",
            "782/782 [==============================] - 7s 8ms/step - loss: 0.6406 - accuracy: 0.7749 - val_loss: 0.6898 - val_accuracy: 0.7628\n",
            "Epoch 9/40\n",
            "782/782 [==============================] - 6s 8ms/step - loss: 0.6098 - accuracy: 0.7844 - val_loss: 0.6177 - val_accuracy: 0.7891\n",
            "Epoch 10/40\n",
            "782/782 [==============================] - 6s 8ms/step - loss: 0.5704 - accuracy: 0.8000 - val_loss: 0.6118 - val_accuracy: 0.7905\n",
            "Epoch 11/40\n",
            "782/782 [==============================] - 7s 8ms/step - loss: 0.5573 - accuracy: 0.8035 - val_loss: 0.6048 - val_accuracy: 0.7963\n",
            "Epoch 12/40\n",
            "782/782 [==============================] - 6s 8ms/step - loss: 0.5386 - accuracy: 0.8103 - val_loss: 0.6031 - val_accuracy: 0.7905\n",
            "Epoch 13/40\n",
            "782/782 [==============================] - 7s 8ms/step - loss: 0.5011 - accuracy: 0.8228 - val_loss: 0.6210 - val_accuracy: 0.7881\n",
            "Epoch 14/40\n",
            "782/782 [==============================] - 7s 8ms/step - loss: 0.4878 - accuracy: 0.8262 - val_loss: 0.5821 - val_accuracy: 0.8001\n",
            "Epoch 15/40\n",
            "782/782 [==============================] - 6s 8ms/step - loss: 0.4619 - accuracy: 0.8373 - val_loss: 0.5940 - val_accuracy: 0.8003\n",
            "Epoch 16/40\n",
            "782/782 [==============================] - 7s 8ms/step - loss: 0.4536 - accuracy: 0.8385 - val_loss: 0.5932 - val_accuracy: 0.8011\n",
            "Epoch 17/40\n",
            "782/782 [==============================] - 7s 9ms/step - loss: 0.4364 - accuracy: 0.8447 - val_loss: 0.5713 - val_accuracy: 0.8073\n",
            "Epoch 18/40\n",
            "782/782 [==============================] - 7s 8ms/step - loss: 0.4244 - accuracy: 0.8483 - val_loss: 0.5730 - val_accuracy: 0.8101\n",
            "Epoch 19/40\n",
            "782/782 [==============================] - 6s 8ms/step - loss: 0.4149 - accuracy: 0.8514 - val_loss: 0.5991 - val_accuracy: 0.8041\n",
            "Epoch 20/40\n",
            "782/782 [==============================] - 7s 8ms/step - loss: 0.3957 - accuracy: 0.8599 - val_loss: 0.5732 - val_accuracy: 0.8096\n",
            "Epoch 21/40\n",
            "782/782 [==============================] - 6s 8ms/step - loss: 0.3904 - accuracy: 0.8601 - val_loss: 0.5702 - val_accuracy: 0.8119\n",
            "Epoch 22/40\n",
            "782/782 [==============================] - 7s 8ms/step - loss: 0.3766 - accuracy: 0.8665 - val_loss: 0.5502 - val_accuracy: 0.8173\n",
            "Epoch 23/40\n",
            "782/782 [==============================] - 7s 8ms/step - loss: 0.3653 - accuracy: 0.8720 - val_loss: 0.5618 - val_accuracy: 0.8165\n",
            "Epoch 24/40\n",
            "782/782 [==============================] - 6s 8ms/step - loss: 0.3527 - accuracy: 0.8747 - val_loss: 0.5797 - val_accuracy: 0.8107\n",
            "Epoch 25/40\n",
            "782/782 [==============================] - 6s 8ms/step - loss: 0.3435 - accuracy: 0.8774 - val_loss: 0.5747 - val_accuracy: 0.8113\n",
            "Epoch 26/40\n",
            "782/782 [==============================] - 6s 8ms/step - loss: 0.3332 - accuracy: 0.8831 - val_loss: 0.5822 - val_accuracy: 0.8097\n",
            "Epoch 27/40\n",
            "782/782 [==============================] - 6s 8ms/step - loss: 0.3259 - accuracy: 0.8844 - val_loss: 0.5907 - val_accuracy: 0.8126\n",
            "Epoch 28/40\n",
            "782/782 [==============================] - 6s 8ms/step - loss: 0.3218 - accuracy: 0.8853 - val_loss: 0.5694 - val_accuracy: 0.8174\n",
            "Epoch 29/40\n",
            "782/782 [==============================] - 7s 8ms/step - loss: 0.3177 - accuracy: 0.8860 - val_loss: 0.5590 - val_accuracy: 0.8212\n",
            "Epoch 30/40\n",
            "782/782 [==============================] - 7s 8ms/step - loss: 0.3046 - accuracy: 0.8911 - val_loss: 0.5547 - val_accuracy: 0.8203\n",
            "Epoch 31/40\n",
            "782/782 [==============================] - 6s 8ms/step - loss: 0.3030 - accuracy: 0.8912 - val_loss: 0.5826 - val_accuracy: 0.8143\n",
            "Epoch 32/40\n",
            "782/782 [==============================] - 6s 8ms/step - loss: 0.2952 - accuracy: 0.8935 - val_loss: 0.5584 - val_accuracy: 0.8214\n",
            "Epoch 33/40\n",
            "782/782 [==============================] - 6s 8ms/step - loss: 0.2878 - accuracy: 0.8989 - val_loss: 0.5494 - val_accuracy: 0.8252\n",
            "Epoch 34/40\n",
            "782/782 [==============================] - 6s 8ms/step - loss: 0.2851 - accuracy: 0.8970 - val_loss: 0.5536 - val_accuracy: 0.8197\n",
            "Epoch 35/40\n",
            "782/782 [==============================] - 7s 8ms/step - loss: 0.2729 - accuracy: 0.9015 - val_loss: 0.5528 - val_accuracy: 0.8248\n",
            "Epoch 36/40\n",
            "782/782 [==============================] - 6s 8ms/step - loss: 0.2755 - accuracy: 0.9021 - val_loss: 0.5587 - val_accuracy: 0.8195\n",
            "Epoch 37/40\n",
            "782/782 [==============================] - 7s 8ms/step - loss: 0.2698 - accuracy: 0.9034 - val_loss: 0.5559 - val_accuracy: 0.8227\n",
            "Epoch 38/40\n",
            "782/782 [==============================] - 7s 8ms/step - loss: 0.2598 - accuracy: 0.9039 - val_loss: 0.5613 - val_accuracy: 0.8215\n",
            "Epoch 39/40\n",
            "782/782 [==============================] - 6s 8ms/step - loss: 0.2589 - accuracy: 0.9075 - val_loss: 0.5714 - val_accuracy: 0.8190\n",
            "Epoch 40/40\n",
            "782/782 [==============================] - 7s 8ms/step - loss: 0.2564 - accuracy: 0.9079 - val_loss: 0.5687 - val_accuracy: 0.8202\n"
          ],
          "name": "stdout"
        }
      ]
    },
    {
      "cell_type": "code",
      "metadata": {
        "colab": {
          "base_uri": "https://localhost:8080/"
        },
        "id": "XL_8XCtinniP",
        "outputId": "76823345-a3cb-47ea-db77-3d620ba62e37"
      },
      "source": [
        "preds = model.predict(x_test)\n",
        "print(classification_report(y_test.argmax(axis=1), preds.argmax(axis=1), target_names=labelNames))"
      ],
      "execution_count": 8,
      "outputs": [
        {
          "output_type": "stream",
          "text": [
            "              precision    recall  f1-score   support\n",
            "\n",
            "    airplane       0.87      0.81      0.84      1000\n",
            "  automobile       0.91      0.92      0.91      1000\n",
            "        bird       0.78      0.71      0.74      1000\n",
            "         cat       0.65      0.70      0.67      1000\n",
            "        deer       0.76      0.80      0.78      1000\n",
            "         dog       0.72      0.75      0.74      1000\n",
            "        frog       0.83      0.89      0.86      1000\n",
            "       horse       0.89      0.84      0.87      1000\n",
            "        ship       0.91      0.91      0.91      1000\n",
            "       truck       0.90      0.88      0.89      1000\n",
            "\n",
            "    accuracy                           0.82     10000\n",
            "   macro avg       0.82      0.82      0.82     10000\n",
            "weighted avg       0.82      0.82      0.82     10000\n",
            "\n"
          ],
          "name": "stdout"
        }
      ]
    },
    {
      "cell_type": "code",
      "metadata": {
        "colab": {
          "base_uri": "https://localhost:8080/",
          "height": 299
        },
        "id": "mb_V23uBp1hc",
        "outputId": "935c7d05-6073-4b59-a348-1aa73d11e6ad"
      },
      "source": [
        "# plot the training loss and accuracy\n",
        "plt.style.use(\"ggplot\")\n",
        "plt.figure()\n",
        "plt.plot(np.arange(0, 40), H.history[\"loss\"], label=\"train_loss\")\n",
        "plt.plot(np.arange(0, 40), H.history[\"val_loss\"], label=\"val_loss\")\n",
        "plt.plot(np.arange(0, 40), H.history[\"accuracy\"], label=\"train_acc\")\n",
        "plt.plot(np.arange(0, 40), H.history[\"val_accuracy\"], label=\"val_acc\")\n",
        "plt.title(\"Training Loss and Accuracy on CIFAR-10\")\n",
        "plt.xlabel(\"Epoch #\")\n",
        "plt.ylabel(\"Loss/Accuracy\")\n",
        "plt.legend()\n",
        "plt.show()"
      ],
      "execution_count": 9,
      "outputs": [
        {
          "output_type": "display_data",
          "data": {
            "image/png": "[encoded data removed]",
            "text/plain": [
              "<Figure size 432x288 with 1 Axes>"
            ]
          },
          "metadata": {
            "tags": []
          }
        }
      ]
    }
  ]
}