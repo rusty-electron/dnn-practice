{
 "cells": [
  {
   "cell_type": "code",
   "execution_count": 27,
   "metadata": {},
   "outputs": [],
   "source": [
    "# import the modules\n",
    "import numpy as np\n",
    "\n",
    "# define the inputs\n",
    "X = np.array([[0, 0], [0, 1], [1, 0], [1, 1]])\n",
    "y = np.array([0, 0, 0, 1])\n",
    "\n",
    "layers = [2, 2, 1]\n",
    "\n",
    "W = []"
   ]
  },
  {
   "cell_type": "code",
   "execution_count": 28,
   "metadata": {},
   "outputs": [
    {
     "name": "stdout",
     "output_type": "stream",
     "text": [
      "[array([[-0.69720651, -0.92577273, -0.96861831],\n",
      "       [-0.57432443, -0.05792479, -1.50461605],\n",
      "       [-0.11930924, -0.63296105, -0.13514875]])]\n"
     ]
    }
   ],
   "source": [
    "# initializing weights for the initial layers\n",
    "for i in range(0, len(layers) - 2):\n",
    "    W.append(np.random.randn(layers[i] + 1, layers[i+1] + 1) / np.sqrt(layers[i]))\n",
    "print(W)"
   ]
  },
  {
   "cell_type": "code",
   "execution_count": 29,
   "metadata": {},
   "outputs": [
    {
     "name": "stdout",
     "output_type": "stream",
     "text": [
      "-------------\n",
      "[[-0.69720651 -0.92577273 -0.96861831]\n",
      " [-0.57432443 -0.05792479 -1.50461605]\n",
      " [-0.11930924 -0.63296105 -0.13514875]]\n",
      "-------------\n",
      "[[-0.38512008]\n",
      " [-0.82929129]\n",
      " [ 0.06491673]]\n"
     ]
    }
   ],
   "source": [
    "# initializing weights for the last layer\n",
    "W.append(np.random.randn(layers[-2] + 1, layers[-1]) / np.sqrt(layers[-2]))\n",
    "for i in W:\n",
    "    print(\"-------------\")\n",
    "    print(i)"
   ]
  },
  {
   "cell_type": "code",
   "execution_count": 30,
   "metadata": {},
   "outputs": [
    {
     "name": "stdout",
     "output_type": "stream",
     "text": [
      "[[0. 0. 1.]\n",
      " [0. 1. 1.]\n",
      " [1. 0. 1.]\n",
      " [1. 1. 1.]]\n"
     ]
    }
   ],
   "source": [
    "# bias trick for X\n",
    "X = np.c_[X, np.ones(X.shape[0])]\n",
    "print(X)"
   ]
  },
  {
   "cell_type": "code",
   "execution_count": 31,
   "metadata": {},
   "outputs": [],
   "source": [
    "def sigmoid(x):\n",
    "    return 1.0/(1 + np.exp(-x))"
   ]
  },
  {
   "cell_type": "code",
   "execution_count": 39,
   "metadata": {},
   "outputs": [],
   "source": [
    "def sigmoid_deriv(x):\n",
    "    return x * (1 - x)"
   ]
  },
  {
   "cell_type": "code",
   "execution_count": 36,
   "metadata": {},
   "outputs": [
    {
     "name": "stdout",
     "output_type": "stream",
     "text": [
      "-------------\n",
      "[[0. 0. 1.]]\n",
      "-------------\n",
      "[[0.47020802 0.34683943 0.46626415]]\n",
      "-------------\n",
      "[[0.39211057]]\n",
      "-------------\n",
      "[[0. 1. 1.]]\n",
      "-------------\n",
      "[[0.33322523 0.33383604 0.16249707]]\n",
      "-------------\n",
      "[[0.40260316]]\n",
      "-------------\n",
      "[[1. 0. 1.]]\n",
      "-------------\n",
      "[[0.30650377 0.17382842 0.24903473]]\n",
      "-------------\n",
      "[[0.43880123]]\n",
      "-------------\n",
      "[[1. 1. 1.]]\n",
      "-------------\n",
      "[[0.19927366 0.16566621 0.06860084]]\n",
      "-------------\n",
      "[[0.44777208]]\n"
     ]
    }
   ],
   "source": [
    "for (x, target) in zip(X, y):\n",
    "    A = [np.atleast_2d(x)]\n",
    "\n",
    "    # feedforward\n",
    "    for i in range(0, len(W)):\n",
    "        net = np.dot(A[i], W[i])\n",
    "\n",
    "        out = sigmoid(net)\n",
    "        A.append(out)\n",
    "\n",
    "    print(\"[INFO] Values in A:\")\n",
    "    for i in A:\n",
    "        print(\"-------------\")\n",
    "        print(i)\n",
    "    \n",
    "    # backpropagation\n",
    "    error = A[-1] - y\n",
    "    \n",
    "    D = [error * sigmoid_deriv(A[-1])]\n",
    "    "
   ]
  },
  {
   "cell_type": "code",
   "execution_count": null,
   "metadata": {},
   "outputs": [],
   "source": []
  }
 ],
 "metadata": {
  "kernelspec": {
   "display_name": "Python 3",
   "language": "python",
   "name": "python3"
  },
  "language_info": {
   "codemirror_mode": {
    "name": "ipython",
    "version": 3
   },
   "file_extension": ".py",
   "mimetype": "text/x-python",
   "name": "python",
   "nbconvert_exporter": "python",
   "pygments_lexer": "ipython3",
   "version": "3.8.5"
  }
 },
 "nbformat": 4,
 "nbformat_minor": 4
}
