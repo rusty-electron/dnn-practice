{
 "cells": [
  {
   "cell_type": "code",
   "execution_count": 2,
   "metadata": {},
   "outputs": [],
   "source": [
    "from sklearn.preprocessing import LabelBinarizer\n",
    "from sklearn.model_selection import train_test_split\n",
    "from sklearn.metrics import classification_report\n",
    "from keras.models import Sequential\n",
    "from keras.layers import Dense\n",
    "from keras.optimizers import SGD\n",
    "from keras import datasets\n",
    "import matplotlib.pyplot as plt\n",
    "import numpy as np"
   ]
  },
  {
   "cell_type": "code",
   "execution_count": 3,
   "metadata": {},
   "outputs": [
    {
     "name": "stdout",
     "output_type": "stream",
     "text": [
      "[INFO] loading MNIST (full) dataset...\n"
     ]
    }
   ],
   "source": [
    "print(\"[INFO] loading MNIST (full) dataset...\")\n",
    "dataset = datasets.mnist.load_data()"
   ]
  },
  {
   "cell_type": "code",
   "execution_count": 4,
   "metadata": {},
   "outputs": [],
   "source": [
    "(trainX, trainY), (testX, testY) = dataset\n",
    "trainX, testX = trainX/255.0, testX/255.0\n",
    "trainX, testX = trainX.reshape(trainX.shape[0], 784), testX.reshape(testX.shape[0], 784)"
   ]
  },
  {
   "cell_type": "code",
   "execution_count": 5,
   "metadata": {},
   "outputs": [
    {
     "data": {
      "text/plain": [
       "(60000, 784)"
      ]
     },
     "execution_count": 5,
     "metadata": {},
     "output_type": "execute_result"
    }
   ],
   "source": [
    "trainX.shape"
   ]
  },
  {
   "cell_type": "code",
   "execution_count": 6,
   "metadata": {},
   "outputs": [],
   "source": [
    "lb = LabelBinarizer()\n",
    "trainY = lb.fit_transform(trainY)\n",
    "testY = lb.transform(testY)"
   ]
  },
  {
   "cell_type": "code",
   "execution_count": 7,
   "metadata": {},
   "outputs": [],
   "source": [
    "# define the 784-256-128-10 architecture using Keras\n",
    "model = Sequential()\n",
    "model.add(Dense(256, input_shape=(784,), activation=\"sigmoid\"))\n",
    "model.add(Dense(128, activation=\"sigmoid\"))\n",
    "model.add(Dense(10, activation=\"softmax\"))"
   ]
  },
  {
   "cell_type": "code",
   "execution_count": 8,
   "metadata": {},
   "outputs": [
    {
     "name": "stdout",
     "output_type": "stream",
     "text": [
      "[INFO] training network...\n",
      "Epoch 1/100\n",
      "469/469 [==============================] - 2s 4ms/step - loss: 2.2807 - accuracy: 0.1657 - val_loss: 2.2484 - val_accuracy: 0.2606\n",
      "Epoch 2/100\n",
      "469/469 [==============================] - 1s 3ms/step - loss: 2.2170 - accuracy: 0.3869 - val_loss: 2.1776 - val_accuracy: 0.4091\n",
      "Epoch 3/100\n",
      "469/469 [==============================] - 1s 3ms/step - loss: 2.1366 - accuracy: 0.5401 - val_loss: 2.0807 - val_accuracy: 0.5716\n",
      "Epoch 4/100\n",
      "469/469 [==============================] - 1s 3ms/step - loss: 2.0198 - accuracy: 0.6157 - val_loss: 1.9361 - val_accuracy: 0.6493\n",
      "Epoch 5/100\n",
      "469/469 [==============================] - 1s 3ms/step - loss: 1.8497 - accuracy: 0.6654 - val_loss: 1.7331 - val_accuracy: 0.7029\n",
      "Epoch 6/100\n",
      "469/469 [==============================] - 1s 3ms/step - loss: 1.6288 - accuracy: 0.7035 - val_loss: 1.4932 - val_accuracy: 0.7276\n",
      "Epoch 7/100\n",
      "469/469 [==============================] - 1s 3ms/step - loss: 1.3942 - accuracy: 0.7372 - val_loss: 1.2669 - val_accuracy: 0.7571\n",
      "Epoch 8/100\n",
      "469/469 [==============================] - 2s 3ms/step - loss: 1.1903 - accuracy: 0.7634 - val_loss: 1.0853 - val_accuracy: 0.7850\n",
      "Epoch 9/100\n",
      "469/469 [==============================] - 1s 3ms/step - loss: 1.0332 - accuracy: 0.7825 - val_loss: 0.9509 - val_accuracy: 0.8016\n",
      "Epoch 10/100\n",
      "469/469 [==============================] - 2s 3ms/step - loss: 0.9166 - accuracy: 0.7993 - val_loss: 0.8511 - val_accuracy: 0.8141\n",
      "Epoch 11/100\n",
      "469/469 [==============================] - 1s 3ms/step - loss: 0.8287 - accuracy: 0.8119 - val_loss: 0.7742 - val_accuracy: 0.8201\n",
      "Epoch 12/100\n",
      "469/469 [==============================] - 1s 3ms/step - loss: 0.7607 - accuracy: 0.8214 - val_loss: 0.7140 - val_accuracy: 0.8284\n",
      "Epoch 13/100\n",
      "469/469 [==============================] - 1s 3ms/step - loss: 0.7065 - accuracy: 0.8286 - val_loss: 0.6658 - val_accuracy: 0.8346\n",
      "Epoch 14/100\n",
      "469/469 [==============================] - 1s 3ms/step - loss: 0.6626 - accuracy: 0.8358 - val_loss: 0.6259 - val_accuracy: 0.8435\n",
      "Epoch 15/100\n",
      "469/469 [==============================] - 1s 3ms/step - loss: 0.6263 - accuracy: 0.8424 - val_loss: 0.5934 - val_accuracy: 0.8486\n",
      "Epoch 16/100\n",
      "469/469 [==============================] - 1s 3ms/step - loss: 0.5958 - accuracy: 0.8468 - val_loss: 0.5652 - val_accuracy: 0.8548\n",
      "Epoch 17/100\n",
      "469/469 [==============================] - 1s 3ms/step - loss: 0.5698 - accuracy: 0.8525 - val_loss: 0.5420 - val_accuracy: 0.8591\n",
      "Epoch 18/100\n",
      "469/469 [==============================] - 1s 3ms/step - loss: 0.5475 - accuracy: 0.8566 - val_loss: 0.5202 - val_accuracy: 0.8635\n",
      "Epoch 19/100\n",
      "469/469 [==============================] - 1s 3ms/step - loss: 0.5280 - accuracy: 0.8603 - val_loss: 0.5024 - val_accuracy: 0.8663\n",
      "Epoch 20/100\n",
      "469/469 [==============================] - 2s 3ms/step - loss: 0.5109 - accuracy: 0.8641 - val_loss: 0.4862 - val_accuracy: 0.8701\n",
      "Epoch 21/100\n",
      "469/469 [==============================] - 1s 3ms/step - loss: 0.4956 - accuracy: 0.8676 - val_loss: 0.4721 - val_accuracy: 0.8737\n",
      "Epoch 22/100\n",
      "469/469 [==============================] - 1s 3ms/step - loss: 0.4821 - accuracy: 0.8708 - val_loss: 0.4592 - val_accuracy: 0.8764\n",
      "Epoch 23/100\n",
      "469/469 [==============================] - 1s 3ms/step - loss: 0.4696 - accuracy: 0.8736 - val_loss: 0.4480 - val_accuracy: 0.8780\n",
      "Epoch 24/100\n",
      "469/469 [==============================] - 1s 3ms/step - loss: 0.4587 - accuracy: 0.8764 - val_loss: 0.4372 - val_accuracy: 0.8787\n",
      "Epoch 25/100\n",
      "469/469 [==============================] - 1s 3ms/step - loss: 0.4486 - accuracy: 0.8776 - val_loss: 0.4278 - val_accuracy: 0.8820\n",
      "Epoch 26/100\n",
      "469/469 [==============================] - 1s 3ms/step - loss: 0.4395 - accuracy: 0.8801 - val_loss: 0.4194 - val_accuracy: 0.8850\n",
      "Epoch 27/100\n",
      "469/469 [==============================] - 2s 3ms/step - loss: 0.4311 - accuracy: 0.8819 - val_loss: 0.4117 - val_accuracy: 0.8864\n",
      "Epoch 28/100\n",
      "469/469 [==============================] - 1s 3ms/step - loss: 0.4233 - accuracy: 0.8834 - val_loss: 0.4042 - val_accuracy: 0.8881\n",
      "Epoch 29/100\n",
      "469/469 [==============================] - 1s 3ms/step - loss: 0.4163 - accuracy: 0.8857 - val_loss: 0.3973 - val_accuracy: 0.8898\n",
      "Epoch 30/100\n",
      "469/469 [==============================] - 2s 3ms/step - loss: 0.4098 - accuracy: 0.8867 - val_loss: 0.3913 - val_accuracy: 0.8914\n",
      "Epoch 31/100\n",
      "469/469 [==============================] - 1s 3ms/step - loss: 0.4037 - accuracy: 0.8884 - val_loss: 0.3859 - val_accuracy: 0.8917\n",
      "Epoch 32/100\n",
      "469/469 [==============================] - 1s 3ms/step - loss: 0.3980 - accuracy: 0.8898 - val_loss: 0.3802 - val_accuracy: 0.8936\n",
      "Epoch 33/100\n",
      "469/469 [==============================] - 1s 3ms/step - loss: 0.3928 - accuracy: 0.8909 - val_loss: 0.3753 - val_accuracy: 0.8948\n",
      "Epoch 34/100\n",
      "469/469 [==============================] - 1s 3ms/step - loss: 0.3878 - accuracy: 0.8920 - val_loss: 0.3707 - val_accuracy: 0.8959\n",
      "Epoch 35/100\n",
      "469/469 [==============================] - 1s 3ms/step - loss: 0.3832 - accuracy: 0.8932 - val_loss: 0.3663 - val_accuracy: 0.8965\n",
      "Epoch 36/100\n",
      "469/469 [==============================] - 1s 3ms/step - loss: 0.3788 - accuracy: 0.8942 - val_loss: 0.3627 - val_accuracy: 0.8969\n",
      "Epoch 37/100\n",
      "469/469 [==============================] - 1s 3ms/step - loss: 0.3748 - accuracy: 0.8947 - val_loss: 0.3584 - val_accuracy: 0.8986\n",
      "Epoch 38/100\n",
      "469/469 [==============================] - 1s 3ms/step - loss: 0.3709 - accuracy: 0.8962 - val_loss: 0.3547 - val_accuracy: 0.8990\n",
      "Epoch 39/100\n",
      "469/469 [==============================] - 1s 3ms/step - loss: 0.3673 - accuracy: 0.8968 - val_loss: 0.3514 - val_accuracy: 0.9006\n",
      "Epoch 40/100\n",
      "469/469 [==============================] - 1s 3ms/step - loss: 0.3637 - accuracy: 0.8975 - val_loss: 0.3483 - val_accuracy: 0.9011\n",
      "Epoch 41/100\n",
      "469/469 [==============================] - 1s 3ms/step - loss: 0.3605 - accuracy: 0.8982 - val_loss: 0.3449 - val_accuracy: 0.9019\n",
      "Epoch 42/100\n",
      "469/469 [==============================] - 1s 3ms/step - loss: 0.3573 - accuracy: 0.8989 - val_loss: 0.3418 - val_accuracy: 0.9027\n",
      "Epoch 43/100\n",
      "469/469 [==============================] - 1s 3ms/step - loss: 0.3542 - accuracy: 0.9001 - val_loss: 0.3393 - val_accuracy: 0.9016\n",
      "Epoch 44/100\n",
      "469/469 [==============================] - 1s 3ms/step - loss: 0.3515 - accuracy: 0.9003 - val_loss: 0.3366 - val_accuracy: 0.9036\n",
      "Epoch 45/100\n",
      "469/469 [==============================] - 1s 3ms/step - loss: 0.3486 - accuracy: 0.9015 - val_loss: 0.3340 - val_accuracy: 0.9036\n",
      "Epoch 46/100\n",
      "469/469 [==============================] - 2s 4ms/step - loss: 0.3461 - accuracy: 0.9021 - val_loss: 0.3317 - val_accuracy: 0.9038\n",
      "Epoch 47/100\n",
      "469/469 [==============================] - 2s 4ms/step - loss: 0.3435 - accuracy: 0.9026 - val_loss: 0.3297 - val_accuracy: 0.9048\n",
      "Epoch 48/100\n",
      "469/469 [==============================] - 2s 3ms/step - loss: 0.3410 - accuracy: 0.9029 - val_loss: 0.3270 - val_accuracy: 0.9046\n",
      "Epoch 49/100\n",
      "469/469 [==============================] - 2s 3ms/step - loss: 0.3387 - accuracy: 0.9037 - val_loss: 0.3251 - val_accuracy: 0.9061\n",
      "Epoch 50/100\n",
      "469/469 [==============================] - 2s 3ms/step - loss: 0.3363 - accuracy: 0.9042 - val_loss: 0.3230 - val_accuracy: 0.9067\n",
      "Epoch 51/100\n",
      "469/469 [==============================] - 2s 3ms/step - loss: 0.3342 - accuracy: 0.9050 - val_loss: 0.3206 - val_accuracy: 0.9070\n",
      "Epoch 52/100\n",
      "469/469 [==============================] - 2s 4ms/step - loss: 0.3320 - accuracy: 0.9053 - val_loss: 0.3185 - val_accuracy: 0.9076\n",
      "Epoch 53/100\n",
      "469/469 [==============================] - 2s 3ms/step - loss: 0.3300 - accuracy: 0.9056 - val_loss: 0.3169 - val_accuracy: 0.9077\n",
      "Epoch 54/100\n",
      "469/469 [==============================] - 2s 3ms/step - loss: 0.3279 - accuracy: 0.9064 - val_loss: 0.3154 - val_accuracy: 0.9088\n",
      "Epoch 55/100\n",
      "469/469 [==============================] - 2s 4ms/step - loss: 0.3260 - accuracy: 0.9068 - val_loss: 0.3140 - val_accuracy: 0.9089\n",
      "Epoch 56/100\n",
      "469/469 [==============================] - 2s 3ms/step - loss: 0.3242 - accuracy: 0.9068 - val_loss: 0.3120 - val_accuracy: 0.9100\n",
      "Epoch 57/100\n",
      "469/469 [==============================] - 2s 3ms/step - loss: 0.3223 - accuracy: 0.9073 - val_loss: 0.3104 - val_accuracy: 0.9104\n"
     ]
    },
    {
     "name": "stdout",
     "output_type": "stream",
     "text": [
      "Epoch 58/100\n",
      "469/469 [==============================] - 1s 3ms/step - loss: 0.3205 - accuracy: 0.9079 - val_loss: 0.3083 - val_accuracy: 0.9112\n",
      "Epoch 59/100\n",
      "469/469 [==============================] - 2s 3ms/step - loss: 0.3188 - accuracy: 0.9080 - val_loss: 0.3070 - val_accuracy: 0.9117\n",
      "Epoch 60/100\n",
      "469/469 [==============================] - 1s 3ms/step - loss: 0.3171 - accuracy: 0.9088 - val_loss: 0.3053 - val_accuracy: 0.9122\n",
      "Epoch 61/100\n",
      "469/469 [==============================] - 1s 3ms/step - loss: 0.3155 - accuracy: 0.9092 - val_loss: 0.3040 - val_accuracy: 0.9130\n",
      "Epoch 62/100\n",
      "469/469 [==============================] - 1s 3ms/step - loss: 0.3139 - accuracy: 0.9093 - val_loss: 0.3025 - val_accuracy: 0.9133\n",
      "Epoch 63/100\n",
      "469/469 [==============================] - 1s 3ms/step - loss: 0.3123 - accuracy: 0.9097 - val_loss: 0.3014 - val_accuracy: 0.9138\n",
      "Epoch 64/100\n",
      "469/469 [==============================] - 2s 3ms/step - loss: 0.3107 - accuracy: 0.9104 - val_loss: 0.2997 - val_accuracy: 0.9146\n",
      "Epoch 65/100\n",
      "469/469 [==============================] - 1s 3ms/step - loss: 0.3092 - accuracy: 0.9111 - val_loss: 0.2984 - val_accuracy: 0.9145\n",
      "Epoch 66/100\n",
      "469/469 [==============================] - 2s 3ms/step - loss: 0.3078 - accuracy: 0.9111 - val_loss: 0.2969 - val_accuracy: 0.9144\n",
      "Epoch 67/100\n",
      "469/469 [==============================] - 2s 4ms/step - loss: 0.3063 - accuracy: 0.9116 - val_loss: 0.2954 - val_accuracy: 0.9152\n",
      "Epoch 68/100\n",
      "469/469 [==============================] - 2s 3ms/step - loss: 0.3049 - accuracy: 0.9118 - val_loss: 0.2942 - val_accuracy: 0.9161\n",
      "Epoch 69/100\n",
      "469/469 [==============================] - 2s 3ms/step - loss: 0.3035 - accuracy: 0.9126 - val_loss: 0.2932 - val_accuracy: 0.9154\n",
      "Epoch 70/100\n",
      "469/469 [==============================] - 2s 4ms/step - loss: 0.3021 - accuracy: 0.9129 - val_loss: 0.2926 - val_accuracy: 0.9167\n",
      "Epoch 71/100\n",
      "469/469 [==============================] - 2s 3ms/step - loss: 0.3008 - accuracy: 0.9135 - val_loss: 0.2908 - val_accuracy: 0.9165\n",
      "Epoch 72/100\n",
      "469/469 [==============================] - 2s 3ms/step - loss: 0.2995 - accuracy: 0.9136 - val_loss: 0.2897 - val_accuracy: 0.9175\n",
      "Epoch 73/100\n",
      "469/469 [==============================] - 2s 3ms/step - loss: 0.2982 - accuracy: 0.9138 - val_loss: 0.2891 - val_accuracy: 0.9172\n",
      "Epoch 74/100\n",
      "469/469 [==============================] - 2s 3ms/step - loss: 0.2970 - accuracy: 0.9146 - val_loss: 0.2874 - val_accuracy: 0.9176\n",
      "Epoch 75/100\n",
      "469/469 [==============================] - 2s 3ms/step - loss: 0.2957 - accuracy: 0.9145 - val_loss: 0.2863 - val_accuracy: 0.9172\n",
      "Epoch 76/100\n",
      "469/469 [==============================] - 2s 3ms/step - loss: 0.2945 - accuracy: 0.9149 - val_loss: 0.2854 - val_accuracy: 0.9185\n",
      "Epoch 77/100\n",
      "469/469 [==============================] - 2s 3ms/step - loss: 0.2934 - accuracy: 0.9154 - val_loss: 0.2841 - val_accuracy: 0.9188\n",
      "Epoch 78/100\n",
      "469/469 [==============================] - 2s 3ms/step - loss: 0.2921 - accuracy: 0.9157 - val_loss: 0.2833 - val_accuracy: 0.9190\n",
      "Epoch 79/100\n",
      "469/469 [==============================] - 2s 3ms/step - loss: 0.2910 - accuracy: 0.9157 - val_loss: 0.2822 - val_accuracy: 0.9196\n",
      "Epoch 80/100\n",
      "469/469 [==============================] - 2s 3ms/step - loss: 0.2899 - accuracy: 0.9164 - val_loss: 0.2808 - val_accuracy: 0.9198\n",
      "Epoch 81/100\n",
      "469/469 [==============================] - 2s 3ms/step - loss: 0.2887 - accuracy: 0.9164 - val_loss: 0.2801 - val_accuracy: 0.9204\n",
      "Epoch 82/100\n",
      "469/469 [==============================] - 2s 3ms/step - loss: 0.2877 - accuracy: 0.9169 - val_loss: 0.2791 - val_accuracy: 0.9200\n",
      "Epoch 83/100\n",
      "469/469 [==============================] - 2s 3ms/step - loss: 0.2865 - accuracy: 0.9170 - val_loss: 0.2784 - val_accuracy: 0.9206\n",
      "Epoch 84/100\n",
      "469/469 [==============================] - 2s 3ms/step - loss: 0.2854 - accuracy: 0.9172 - val_loss: 0.2773 - val_accuracy: 0.9209\n",
      "Epoch 85/100\n",
      "469/469 [==============================] - 2s 3ms/step - loss: 0.2843 - accuracy: 0.9176 - val_loss: 0.2768 - val_accuracy: 0.9212\n",
      "Epoch 86/100\n",
      "469/469 [==============================] - 2s 3ms/step - loss: 0.2834 - accuracy: 0.9178 - val_loss: 0.2754 - val_accuracy: 0.9220\n",
      "Epoch 87/100\n",
      "469/469 [==============================] - 2s 3ms/step - loss: 0.2823 - accuracy: 0.9182 - val_loss: 0.2749 - val_accuracy: 0.9223\n",
      "Epoch 88/100\n",
      "469/469 [==============================] - 2s 3ms/step - loss: 0.2812 - accuracy: 0.9186 - val_loss: 0.2744 - val_accuracy: 0.9215\n",
      "Epoch 89/100\n",
      "469/469 [==============================] - 2s 3ms/step - loss: 0.2803 - accuracy: 0.9189 - val_loss: 0.2725 - val_accuracy: 0.9221\n",
      "Epoch 90/100\n",
      "469/469 [==============================] - 2s 3ms/step - loss: 0.2793 - accuracy: 0.9194 - val_loss: 0.2721 - val_accuracy: 0.9223\n",
      "Epoch 91/100\n",
      "469/469 [==============================] - 2s 3ms/step - loss: 0.2783 - accuracy: 0.9191 - val_loss: 0.2713 - val_accuracy: 0.9217\n",
      "Epoch 92/100\n",
      "469/469 [==============================] - 2s 3ms/step - loss: 0.2773 - accuracy: 0.9197 - val_loss: 0.2704 - val_accuracy: 0.9232\n",
      "Epoch 93/100\n",
      "469/469 [==============================] - 2s 3ms/step - loss: 0.2763 - accuracy: 0.9198 - val_loss: 0.2697 - val_accuracy: 0.9229\n",
      "Epoch 94/100\n",
      "469/469 [==============================] - 2s 3ms/step - loss: 0.2754 - accuracy: 0.9198 - val_loss: 0.2687 - val_accuracy: 0.9227\n",
      "Epoch 95/100\n",
      "469/469 [==============================] - 2s 3ms/step - loss: 0.2744 - accuracy: 0.9202 - val_loss: 0.2679 - val_accuracy: 0.9229\n",
      "Epoch 96/100\n",
      "469/469 [==============================] - 2s 3ms/step - loss: 0.2734 - accuracy: 0.9206 - val_loss: 0.2673 - val_accuracy: 0.9237\n",
      "Epoch 97/100\n",
      "469/469 [==============================] - 2s 3ms/step - loss: 0.2726 - accuracy: 0.9206 - val_loss: 0.2665 - val_accuracy: 0.9227\n",
      "Epoch 98/100\n",
      "469/469 [==============================] - 2s 4ms/step - loss: 0.2717 - accuracy: 0.9209 - val_loss: 0.2656 - val_accuracy: 0.9233\n",
      "Epoch 99/100\n",
      "469/469 [==============================] - 1s 3ms/step - loss: 0.2707 - accuracy: 0.9214 - val_loss: 0.2648 - val_accuracy: 0.9234\n",
      "Epoch 100/100\n",
      "469/469 [==============================] - 2s 4ms/step - loss: 0.2699 - accuracy: 0.9217 - val_loss: 0.2639 - val_accuracy: 0.9236\n"
     ]
    }
   ],
   "source": [
    "print(\"[INFO] training network...\")\n",
    "sgd = SGD(0.01)\n",
    "model.compile(loss=\"categorical_crossentropy\", optimizer=sgd, metrics=[\"accuracy\"])\n",
    "H = model.fit(trainX, trainY, validation_data=(testX, testY), epochs=100, batch_size=128)"
   ]
  },
  {
   "cell_type": "code",
   "execution_count": 11,
   "metadata": {},
   "outputs": [
    {
     "name": "stdout",
     "output_type": "stream",
     "text": [
      "[INFO] evaluating network..\n",
      "              precision    recall  f1-score   support\n",
      "\n",
      "           0       0.94      0.98      0.96       980\n",
      "           1       0.97      0.98      0.97      1135\n",
      "           2       0.92      0.90      0.91      1032\n",
      "           3       0.90      0.91      0.91      1010\n",
      "           4       0.92      0.94      0.93       982\n",
      "           5       0.90      0.86      0.88       892\n",
      "           6       0.93      0.95      0.94       958\n",
      "           7       0.93      0.93      0.93      1028\n",
      "           8       0.90      0.88      0.89       974\n",
      "           9       0.92      0.90      0.91      1009\n",
      "\n",
      "    accuracy                           0.92     10000\n",
      "   macro avg       0.92      0.92      0.92     10000\n",
      "weighted avg       0.92      0.92      0.92     10000\n",
      "\n"
     ]
    }
   ],
   "source": [
    "# evaluate the network\n",
    "print(\"[INFO] evaluating network..\")\n",
    "predictions = model.predict(testX, batch_size=128)\n",
    "print(classification_report(testY.argmax(axis=1), \n",
    "      predictions.argmax(axis=1), \n",
    "      target_names=[str(x) for x in lb.classes_]))"
   ]
  },
  {
   "cell_type": "code",
   "execution_count": 14,
   "metadata": {},
   "outputs": [
    {
     "data": {
      "image/png": "[encoded data removed]",
      "text/plain": [
       "<Figure size 432x288 with 1 Axes>"
      ]
     },
     "metadata": {},
     "output_type": "display_data"
    }
   ],
   "source": [
    "# plot the training loss and accuracy\n",
    "plt.style.use(\"ggplot\")\n",
    "plt.figure()\n",
    "plt.plot(np.arange(0, 100), H.history[\"loss\"], label=\"train_loss\")\n",
    "plt.plot(np.arange(0, 100), H.history[\"val_loss\"], label=\"val_loss\")\n",
    "plt.plot(np.arange(0, 100), H.history[\"accuracy\"], label=\"train_acc\")\n",
    "plt.plot(np.arange(0, 100), H.history[\"val_accuracy\"], label=\"val_acc\")\n",
    "plt.title(\"Training Loss and Accuracy\")\n",
    "plt.xlabel(\"Epoch #\")\n",
    "plt.ylabel(\"Loss/Accuracy\")\n",
    "plt.legend()\n",
    "plt.show()"
   ]
  },
  {
   "cell_type": "code",
   "execution_count": null,
   "metadata": {},
   "outputs": [],
   "source": []
  }
 ],
 "metadata": {
  "kernelspec": {
   "display_name": "Python 3",
   "language": "python",
   "name": "python3"
  },
  "language_info": {
   "codemirror_mode": {
    "name": "ipython",
    "version": 3
   },
   "file_extension": ".py",
   "mimetype": "text/x-python",
   "name": "python",
   "nbconvert_exporter": "python",
   "pygments_lexer": "ipython3",
   "version": "3.8.5"
  }
 },
 "nbformat": 4,
 "nbformat_minor": 4
}
