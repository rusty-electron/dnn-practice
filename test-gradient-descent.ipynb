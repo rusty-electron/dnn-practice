{
 "cells": [
  {
   "cell_type": "code",
   "execution_count": 1,
   "metadata": {},
   "outputs": [],
   "source": [
    "# import the required library modules\n",
    "from sklearn.model_selection import train_test_split\n",
    "from sklearn.metrics import classification_report\n",
    "from sklearn.datasets import make_blobs\n",
    "import matplotlib.pyplot as plt\n",
    "import numpy as np\n",
    "import argparse"
   ]
  },
  {
   "cell_type": "code",
   "execution_count": 2,
   "metadata": {},
   "outputs": [],
   "source": [
    "# define the functions\n",
    "def sigmoid_activation(x):\n",
    "    return 1.0/(1+np.exp(-x))\n",
    "\n",
    "def predict(X, W):\n",
    "    preds = sigmoid_activation(X.dot(W))\n",
    "\n",
    "    preds[preds <= 0.5] = 0\n",
    "    preds[preds > 0] = 1\n",
    "\n",
    "    return preds"
   ]
  },
  {
   "cell_type": "code",
   "execution_count": 3,
   "metadata": {},
   "outputs": [],
   "source": [
    "# replace argparse stuff with hardcoded dict strings\n",
    "args = {}\n",
    "\n",
    "args[\"epochs\"] = 100\n",
    "args[\"alpha\"] = 0.01"
   ]
  },
  {
   "cell_type": "code",
   "execution_count": 4,
   "metadata": {},
   "outputs": [
    {
     "name": "stdout",
     "output_type": "stream",
     "text": [
      "(1000, 2) (1000,)\n"
     ]
    }
   ],
   "source": [
    "# create data and label blobs\n",
    "(X, y) = make_blobs(n_samples=1000, n_features=2, centers=2, cluster_std=1.5, random_state=1)\n",
    "\n",
    "print(X.shape,y.shape)"
   ]
  },
  {
   "cell_type": "code",
   "execution_count": 5,
   "metadata": {},
   "outputs": [
    {
     "name": "stdout",
     "output_type": "stream",
     "text": [
      "(1000, 1)\n"
     ]
    }
   ],
   "source": [
    "y = y.reshape((y.shape[0], 1))\n",
    "print(y.shape)"
   ]
  },
  {
   "cell_type": "code",
   "execution_count": 6,
   "metadata": {},
   "outputs": [
    {
     "name": "stdout",
     "output_type": "stream",
     "text": [
      "(1000, 3)\n"
     ]
    }
   ],
   "source": [
    "# bias trick\n",
    "X = np.c_[X, np.ones(X.shape[0])]\n",
    "print(X.shape)"
   ]
  },
  {
   "cell_type": "code",
   "execution_count": 7,
   "metadata": {},
   "outputs": [
    {
     "name": "stdout",
     "output_type": "stream",
     "text": [
      "[[-3.75777913  4.5291416   1.        ]\n",
      " [-7.91575179 -3.61404891  1.        ]\n",
      " [ 2.88672576  5.64336681  1.        ]\n",
      " ...\n",
      " [-2.04803419  4.69042967  1.        ]\n",
      " [-1.86422702  4.22790859  1.        ]\n",
      " [-9.86565836 -5.06598889  1.        ]]\n"
     ]
    }
   ],
   "source": [
    "print(X)"
   ]
  },
  {
   "cell_type": "code",
   "execution_count": 8,
   "metadata": {},
   "outputs": [
    {
     "name": "stdout",
     "output_type": "stream",
     "text": [
      "[[ -2.54825183   0.94912796   1.        ]\n",
      " [-12.62182064  -1.96446452   1.        ]\n",
      " [ -6.83458986  -1.53300622   1.        ]\n",
      " ...\n",
      " [  0.28076453   3.74799337   1.        ]\n",
      " [  0.08236863   6.01143818   1.        ]\n",
      " [ -1.9394284    4.32125315   1.        ]] \n",
      " (500, 3)\n"
     ]
    }
   ],
   "source": [
    "# split dataset into training and test data\n",
    "(trainX, testX, trainY, testY) = train_test_split(X, y, test_size=0.5, random_state=42)\n",
    "print(trainX,\"\\n\",trainX.shape)"
   ]
  },
  {
   "cell_type": "code",
   "execution_count": 9,
   "metadata": {},
   "outputs": [
    {
     "name": "stdout",
     "output_type": "stream",
     "text": [
      "[[0.29177481]\n",
      " [0.2413546 ]\n",
      " [0.55535023]] \n",
      " (3, 1)\n"
     ]
    }
   ],
   "source": [
    "# prepare weight matrix with random values\n",
    "W = np.random.randn(X.shape[1], 1)\n",
    "losses = []\n",
    "print(W, \"\\n\", W.shape)"
   ]
  },
  {
   "cell_type": "code",
   "execution_count": 10,
   "metadata": {},
   "outputs": [
    {
     "name": "stdout",
     "output_type": "stream",
     "text": [
      "[INFO] epoch=1, loss=-104.2870424\n",
      "[INFO] epoch=5, loss=25.9740836\n",
      "[INFO] epoch=10, loss=21.4481157\n",
      "[INFO] epoch=15, loss=14.4784969\n",
      "[INFO] epoch=20, loss=13.9983542\n",
      "[INFO] epoch=25, loss=13.9662258\n",
      "[INFO] epoch=30, loss=12.5954208\n",
      "[INFO] epoch=35, loss=9.5386989\n",
      "[INFO] epoch=40, loss=7.6252549\n",
      "[INFO] epoch=45, loss=4.6904139\n",
      "[INFO] epoch=50, loss=3.3790010\n",
      "[INFO] epoch=55, loss=2.7152070\n",
      "[INFO] epoch=60, loss=2.0848003\n",
      "[INFO] epoch=65, loss=1.5424243\n",
      "[INFO] epoch=70, loss=1.1831281\n",
      "[INFO] epoch=75, loss=0.9596737\n",
      "[INFO] epoch=80, loss=0.8147698\n",
      "[INFO] epoch=85, loss=0.7149500\n",
      "[INFO] epoch=90, loss=0.6423574\n",
      "[INFO] epoch=95, loss=0.5871747\n",
      "[INFO] epoch=100, loss=0.5437083\n"
     ]
    }
   ],
   "source": [
    "# training with 'gradient descent'\n",
    "for epoch in np.arange(0, args[\"epochs\"]):\n",
    "    preds = sigmoid_activation(trainX.dot(W))\n",
    "    error = preds - trainY\n",
    "    loss = np.sum(error * 2)\n",
    "    losses.append(loss)\n",
    "\n",
    "    gradient = trainX.T.dot(error)\n",
    "    W += -args[\"alpha\"] * gradient\n",
    "    \n",
    "    # check to see if an update should be displayed\n",
    "    if epoch == 0 or (epoch + 1) % 5 == 0:\n",
    "        print(\"[INFO] epoch={}, loss={:.7f}\".format(int(epoch + 1), loss))"
   ]
  },
  {
   "cell_type": "code",
   "execution_count": 11,
   "metadata": {
    "scrolled": true
   },
   "outputs": [
    {
     "name": "stdout",
     "output_type": "stream",
     "text": [
      "[INFO] evaluating...\n",
      "              precision    recall  f1-score   support\n",
      "\n",
      "           0       1.00      0.99      1.00       250\n",
      "           1       0.99      1.00      1.00       250\n",
      "\n",
      "    accuracy                           1.00       500\n",
      "   macro avg       1.00      1.00      1.00       500\n",
      "weighted avg       1.00      1.00      1.00       500\n",
      "\n"
     ]
    }
   ],
   "source": [
    "# print predictions and report\n",
    "print(\"[INFO] evaluating...\")\n",
    "preds = predict(testX, W)\n",
    "print(classification_report(testY, preds))"
   ]
  },
  {
   "cell_type": "code",
   "execution_count": 12,
   "metadata": {},
   "outputs": [
    {
     "data": {
      "text/plain": [
       "Text(0, 0.5, 'Loss')"
      ]
     },
     "execution_count": 12,
     "metadata": {},
     "output_type": "execute_result"
    },
    {
     "data": {
      "image/png": "[encoded data removed]",
      "text/plain": [
       "<Figure size 432x288 with 1 Axes>"
      ]
     },
     "metadata": {},
     "output_type": "display_data"
    },
    {
     "data": {
      "image/png": "[encoded data removed]",
      "text/plain": [
       "<Figure size 432x288 with 1 Axes>"
      ]
     },
     "metadata": {},
     "output_type": "display_data"
    }
   ],
   "source": [
    "# plot the (testing) classification data \n",
    "plt.style.use(\"ggplot\") \n",
    "plt.figure() \n",
    "plt.title(\"Data\") \n",
    "plt.scatter(testX[:, 0], testX[:, 1], marker=\"o\", c=testY, s=30)  \n",
    "\n",
    "# construct a figure that plots the loss over time \n",
    "plt.style.use(\"ggplot\") \n",
    "plt.figure() \n",
    "plt.plot(np.arange(0, args[\"epochs\"]), losses) \n",
    "plt.title(\"Training Loss\") \n",
    "plt.xlabel(\"Epoch\") \n",
    "plt.ylabel(\"Loss\")"
   ]
  }
 ],
 "metadata": {
  "kernelspec": {
   "display_name": "Python 3",
   "language": "python",
   "name": "python3"
  },
  "language_info": {
   "codemirror_mode": {
    "name": "ipython",
    "version": 3
   },
   "file_extension": ".py",
   "mimetype": "text/x-python",
   "name": "python",
   "nbconvert_exporter": "python",
   "pygments_lexer": "ipython3",
   "version": "3.8.5"
  }
 },
 "nbformat": 4,
 "nbformat_minor": 4
}
