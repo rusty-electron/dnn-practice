{
 "cells": [
  {
   "cell_type": "code",
   "execution_count": 2,
   "metadata": {},
   "outputs": [],
   "source": [
    "# import the necessary packages\n",
    "from sklearn.preprocessing import LabelBinarizer\n",
    "from sklearn.metrics import classification_report\n",
    "from pyimagesearch.nn import ShallowNet\n",
    "from keras.optimizers import SGD\n",
    "from keras.datasets import cifar10\n",
    "import matplotlib.pyplot as plt\n",
    "import numpy as np"
   ]
  },
  {
   "cell_type": "code",
   "execution_count": 11,
   "metadata": {},
   "outputs": [
    {
     "name": "stdout",
     "output_type": "stream",
     "text": [
      "[INFO] loading CIFAR-10 data...\n"
     ]
    }
   ],
   "source": [
    "print(\"[INFO] loading CIFAR-10 data...\")\n",
    "((trainX, trainY), (testX, testY)) = cifar10.load_data()\n",
    "\n",
    "trainX = trainX.astype(\"float\") / 255.0\n",
    "testX = testX.astype(\"float\") / 255.0\n",
    "\n",
    "lb = LabelBinarizer()\n",
    "trainY = lb.fit_transform(trainY)\n",
    "testY = lb.transform(testY) # TODO"
   ]
  },
  {
   "cell_type": "code",
   "execution_count": 12,
   "metadata": {},
   "outputs": [],
   "source": [
    "# initialize the label names for the CIFAR-10 dataset\n",
    "labelNames = [\"airplane\", \"automobile\", \"bird\", \"cat\", \"deer\", \"dog\", \"frog\", \"horse\", \"ship\", \"truck\"]"
   ]
  },
  {
   "cell_type": "code",
   "execution_count": 13,
   "metadata": {},
   "outputs": [
    {
     "name": "stdout",
     "output_type": "stream",
     "text": [
      "[INFO] compiling model...\n"
     ]
    }
   ],
   "source": [
    "print(\"[INFO] compiling model...\")\n",
    "opt = SGD(lr=0.01)\n",
    "model = ShallowNet.build(width=32, height=32, depth=3, classes=10)\n",
    "model.compile(loss=\"categorical_crossentropy\", optimizer=opt, metrics=[\"accuracy\"])"
   ]
  },
  {
   "cell_type": "code",
   "execution_count": 14,
   "metadata": {},
   "outputs": [
    {
     "name": "stdout",
     "output_type": "stream",
     "text": [
      "[INFO] training network\n",
      "Epoch 1/40\n",
      "1563/1563 [==============================] - 17s 11ms/step - loss: 1.8059 - accuracy: 0.3654 - val_loss: 1.6346 - val_accuracy: 0.4327\n",
      "Epoch 2/40\n",
      "1563/1563 [==============================] - 18s 11ms/step - loss: 1.5506 - accuracy: 0.4601 - val_loss: 1.4981 - val_accuracy: 0.4616\n",
      "Epoch 3/40\n",
      "1563/1563 [==============================] - 19s 12ms/step - loss: 1.4010 - accuracy: 0.5100 - val_loss: 1.3571 - val_accuracy: 0.5219\n",
      "Epoch 4/40\n",
      "1563/1563 [==============================] - 20s 13ms/step - loss: 1.3157 - accuracy: 0.5386 - val_loss: 1.3580 - val_accuracy: 0.5168\n",
      "Epoch 5/40\n",
      "1563/1563 [==============================] - 18s 12ms/step - loss: 1.2649 - accuracy: 0.5565 - val_loss: 1.4872 - val_accuracy: 0.5005\n",
      "Epoch 6/40\n",
      "1563/1563 [==============================] - 18s 12ms/step - loss: 1.2280 - accuracy: 0.5699 - val_loss: 1.3575 - val_accuracy: 0.5245\n",
      "Epoch 7/40\n",
      "1563/1563 [==============================] - 18s 12ms/step - loss: 1.1968 - accuracy: 0.5823 - val_loss: 1.2590 - val_accuracy: 0.5548\n",
      "Epoch 8/40\n",
      "1563/1563 [==============================] - 18s 12ms/step - loss: 1.1711 - accuracy: 0.5894 - val_loss: 1.2980 - val_accuracy: 0.5411\n",
      "Epoch 9/40\n",
      "1563/1563 [==============================] - 20s 13ms/step - loss: 1.1450 - accuracy: 0.6027 - val_loss: 1.2677 - val_accuracy: 0.5516\n",
      "Epoch 10/40\n",
      "1563/1563 [==============================] - 18s 12ms/step - loss: 1.1235 - accuracy: 0.6084 - val_loss: 1.2567 - val_accuracy: 0.5615\n",
      "Epoch 11/40\n",
      "1563/1563 [==============================] - 18s 11ms/step - loss: 1.1017 - accuracy: 0.6160 - val_loss: 1.2474 - val_accuracy: 0.5599\n",
      "Epoch 12/40\n",
      "1563/1563 [==============================] - 17s 11ms/step - loss: 1.0840 - accuracy: 0.6248 - val_loss: 1.3007 - val_accuracy: 0.5383\n",
      "Epoch 13/40\n",
      "1563/1563 [==============================] - 17s 11ms/step - loss: 1.0665 - accuracy: 0.6290 - val_loss: 1.2106 - val_accuracy: 0.5750\n",
      "Epoch 14/40\n",
      "1563/1563 [==============================] - 17s 11ms/step - loss: 1.0495 - accuracy: 0.6349 - val_loss: 1.2224 - val_accuracy: 0.5699\n",
      "Epoch 15/40\n",
      "1563/1563 [==============================] - 17s 11ms/step - loss: 1.0351 - accuracy: 0.6396 - val_loss: 1.2853 - val_accuracy: 0.5479\n",
      "Epoch 16/40\n",
      "1563/1563 [==============================] - 17s 11ms/step - loss: 1.0185 - accuracy: 0.6442 - val_loss: 1.2350 - val_accuracy: 0.5750\n",
      "Epoch 17/40\n",
      "1563/1563 [==============================] - 17s 11ms/step - loss: 1.0050 - accuracy: 0.6504 - val_loss: 1.2486 - val_accuracy: 0.5642\n",
      "Epoch 18/40\n",
      "1563/1563 [==============================] - 17s 11ms/step - loss: 0.9930 - accuracy: 0.6537 - val_loss: 1.2674 - val_accuracy: 0.5674\n",
      "Epoch 19/40\n",
      "1563/1563 [==============================] - 17s 11ms/step - loss: 0.9791 - accuracy: 0.6615 - val_loss: 1.3237 - val_accuracy: 0.5428\n",
      "Epoch 20/40\n",
      "1563/1563 [==============================] - 17s 11ms/step - loss: 0.9650 - accuracy: 0.6659 - val_loss: 1.2548 - val_accuracy: 0.5655\n",
      "Epoch 21/40\n",
      "1563/1563 [==============================] - 17s 11ms/step - loss: 0.9523 - accuracy: 0.6687 - val_loss: 1.2128 - val_accuracy: 0.5781\n",
      "Epoch 22/40\n",
      "1563/1563 [==============================] - 17s 11ms/step - loss: 0.9398 - accuracy: 0.6734 - val_loss: 1.2326 - val_accuracy: 0.5741\n",
      "Epoch 23/40\n",
      "1563/1563 [==============================] - 17s 11ms/step - loss: 0.9289 - accuracy: 0.6785 - val_loss: 1.2131 - val_accuracy: 0.5782\n",
      "Epoch 24/40\n",
      "1563/1563 [==============================] - 17s 11ms/step - loss: 0.9136 - accuracy: 0.6841 - val_loss: 1.2559 - val_accuracy: 0.5742\n",
      "Epoch 25/40\n",
      "1563/1563 [==============================] - 17s 11ms/step - loss: 0.9023 - accuracy: 0.6904 - val_loss: 1.2632 - val_accuracy: 0.5692\n",
      "Epoch 26/40\n",
      "1563/1563 [==============================] - 17s 11ms/step - loss: 0.8897 - accuracy: 0.6927 - val_loss: 1.2680 - val_accuracy: 0.5712\n",
      "Epoch 27/40\n",
      "1563/1563 [==============================] - 21s 13ms/step - loss: 0.8795 - accuracy: 0.6970 - val_loss: 1.3585 - val_accuracy: 0.5497\n",
      "Epoch 28/40\n",
      "1563/1563 [==============================] - 24s 16ms/step - loss: 0.8676 - accuracy: 0.6981 - val_loss: 1.3850 - val_accuracy: 0.5355\n",
      "Epoch 29/40\n",
      "1563/1563 [==============================] - 19s 12ms/step - loss: 0.8574 - accuracy: 0.7031 - val_loss: 1.2736 - val_accuracy: 0.5674\n",
      "Epoch 30/40\n",
      "1563/1563 [==============================] - 19s 12ms/step - loss: 0.8454 - accuracy: 0.7084 - val_loss: 1.2486 - val_accuracy: 0.5791\n",
      "Epoch 31/40\n",
      "1563/1563 [==============================] - 18s 12ms/step - loss: 0.8340 - accuracy: 0.7137 - val_loss: 1.2538 - val_accuracy: 0.5759\n",
      "Epoch 32/40\n",
      "1563/1563 [==============================] - 19s 12ms/step - loss: 0.8234 - accuracy: 0.7167 - val_loss: 1.2874 - val_accuracy: 0.5703\n",
      "Epoch 33/40\n",
      "1563/1563 [==============================] - 24s 15ms/step - loss: 0.8112 - accuracy: 0.7199 - val_loss: 1.2721 - val_accuracy: 0.5750\n",
      "Epoch 34/40\n",
      "1563/1563 [==============================] - 22s 14ms/step - loss: 0.8040 - accuracy: 0.7215 - val_loss: 1.3203 - val_accuracy: 0.5554\n",
      "Epoch 35/40\n",
      "1563/1563 [==============================] - 22s 14ms/step - loss: 0.7898 - accuracy: 0.7277 - val_loss: 1.2475 - val_accuracy: 0.5778\n",
      "Epoch 36/40\n",
      "1563/1563 [==============================] - 23s 14ms/step - loss: 0.7805 - accuracy: 0.7313 - val_loss: 1.3139 - val_accuracy: 0.5702\n",
      "Epoch 37/40\n",
      "1563/1563 [==============================] - 19s 12ms/step - loss: 0.7700 - accuracy: 0.7350 - val_loss: 1.2644 - val_accuracy: 0.5781\n",
      "Epoch 38/40\n",
      "1563/1563 [==============================] - 19s 12ms/step - loss: 0.7615 - accuracy: 0.7380 - val_loss: 1.2795 - val_accuracy: 0.5788\n",
      "Epoch 39/40\n",
      "1563/1563 [==============================] - 20s 13ms/step - loss: 0.7496 - accuracy: 0.7420 - val_loss: 1.2887 - val_accuracy: 0.5754\n",
      "Epoch 40/40\n",
      "1563/1563 [==============================] - 18s 12ms/step - loss: 0.7402 - accuracy: 0.7456 - val_loss: 1.2770 - val_accuracy: 0.5799\n"
     ]
    }
   ],
   "source": [
    "print(\"[INFO] training network\")\n",
    "H = model.fit(trainX, trainY, validation_data=(testX, testY), batch_size=32, epochs=40, verbose=1)"
   ]
  },
  {
   "cell_type": "code",
   "execution_count": 15,
   "metadata": {},
   "outputs": [
    {
     "name": "stdout",
     "output_type": "stream",
     "text": [
      "[INFO] evaluating network...\n",
      "              precision    recall  f1-score   support\n",
      "\n",
      "    airplane       0.55      0.71      0.62      1000\n",
      "  automobile       0.73      0.73      0.73      1000\n",
      "        bird       0.47      0.42      0.44      1000\n",
      "         cat       0.43      0.36      0.39      1000\n",
      "        deer       0.54      0.42      0.47      1000\n",
      "         dog       0.44      0.55      0.49      1000\n",
      "        frog       0.64      0.67      0.65      1000\n",
      "       horse       0.73      0.54      0.62      1000\n",
      "        ship       0.65      0.76      0.70      1000\n",
      "       truck       0.66      0.65      0.66      1000\n",
      "\n",
      "    accuracy                           0.58     10000\n",
      "   macro avg       0.58      0.58      0.58     10000\n",
      "weighted avg       0.58      0.58      0.58     10000\n",
      "\n"
     ]
    }
   ],
   "source": [
    "# evaluate the network\n",
    "print(\"[INFO] evaluating network...\")\n",
    "predictions = model.predict(testX, batch_size=32)\n",
    "print(classification_report(testY.argmax(axis=1), predictions.argmax(axis=1), target_names=labelNames))"
   ]
  },
  {
   "cell_type": "code",
   "execution_count": 17,
   "metadata": {},
   "outputs": [
    {
     "data": {
      "text/plain": [
       "Text(0, 0.5, 'Loss/Accuracy')"
      ]
     },
     "execution_count": 17,
     "metadata": {},
     "output_type": "execute_result"
    },
    {
     "data": {
      "image/png": "[encoded data removed]",
      "text/plain": [
       "<Figure size 432x288 with 1 Axes>"
      ]
     },
     "metadata": {},
     "output_type": "display_data"
    }
   ],
   "source": [
    "# plot the training loss and accuracy\n",
    "plt.style.use(\"ggplot\")\n",
    "plt.figure()\n",
    "plt.plot(np.arange(0, 40), H.history[\"loss\"], label=\"train_loss\")\n",
    "plt.plot(np.arange(0, 40), H.history[\"val_loss\"], label=\"val_loss\")\n",
    "plt.plot(np.arange(0, 40), H.history[\"accuracy\"], label=\"train_acc\")\n",
    "plt.plot(np.arange(0, 40), H.history[\"val_accuracy\"], label=\"val_acc\")\n",
    "\n",
    "plt.legend()\n",
    "plt.title(\"Training Loss and Accuracy\")\n",
    "plt.xlabel(\"Epoch #\")\n",
    "plt.ylabel(\"Loss/Accuracy\")"
   ]
  }
 ],
 "metadata": {
  "kernelspec": {
   "display_name": "Python 3",
   "language": "python",
   "name": "python3"
  },
  "language_info": {
   "codemirror_mode": {
    "name": "ipython",
    "version": 3
   },
   "file_extension": ".py",
   "mimetype": "text/x-python",
   "name": "python",
   "nbconvert_exporter": "python",
   "pygments_lexer": "ipython3",
   "version": "3.8.5"
  }
 },
 "nbformat": 4,
 "nbformat_minor": 4
}
